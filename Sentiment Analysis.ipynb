{
 "cells": [
  {
   "cell_type": "code",
   "execution_count": 1,
   "metadata": {},
   "outputs": [],
   "source": [
    "#Importing required libraries\n",
    "import ndjson\n",
    "import pandas as pd\n",
    "import numpy as np\n",
    "import seaborn as sns"
   ]
  },
  {
   "cell_type": "code",
   "execution_count": 5,
   "metadata": {},
   "outputs": [],
   "source": [
    "#import patoolib\n",
    "#import os\n",
    "#Extracting the json.gz file \n",
    "#patoolib.extract_archive(\"Video_Games_5.json.gz\",outdir=\"C:\\\\Users\\\\16692\\\\Documents\")\n",
    "#Already extracted the file so commenting above code"
   ]
  },
  {
   "cell_type": "code",
   "execution_count": 6,
   "metadata": {},
   "outputs": [
    {
     "data": {
      "text/plain": [
       "['.ipynb_checkpoints',\n",
       " '221(G) Checklist.txt',\n",
       " '2FA Authentication.docx',\n",
       " '2FA Authentication.zip',\n",
       " '2_Heart+Disease+Prediction.ipynb',\n",
       " '3_Heart+Disease+Prediction.ipynb',\n",
       " '5015315_SravanaKalyani_Vundela_Mainframes_Jul2022.doc',\n",
       " 'Accomplishments.docx',\n",
       " 'Adaboost_cancer_prediction-.ipynb',\n",
       " 'Advertising.csv',\n",
       " 'airline passenger.ipynb',\n",
       " 'airline-passenger-traffic.csv',\n",
       " 'api_data_wrangling_mini_project.ipynb',\n",
       " 'Assignment 1 pyspark.txt',\n",
       " 'Assignment advanced Regression.ipynb',\n",
       " 'Assignment answers.docx',\n",
       " 'Assignment Clustering',\n",
       " 'Assignment Clustering.zip',\n",
       " 'Assignment subjective Answers.pdf',\n",
       " 'Assignment subjective.docx',\n",
       " 'Attrition+prediction+using+GBM+.ipynb',\n",
       " 'AWS.docx',\n",
       " 'BAD PO LINE and QTY DISC.xlsx',\n",
       " 'Bank+Marketing+Campaign_EDA-blank+notebook (1).ipynb',\n",
       " 'Bank+Marketing+Campaign_EDA-blank+notebook.ipynb',\n",
       " 'Bankdata.csv',\n",
       " 'Big Data',\n",
       " 'Big data Chain.txt',\n",
       " 'Big.csv',\n",
       " 'bird pecker.jpg',\n",
       " 'bitcoinfinal.csv',\n",
       " 'Brats dataset',\n",
       " 'Brats dataset.zip',\n",
       " 'Brats datasetInp',\n",
       " 'Building+a+CNN+-+MNIST.ipynb',\n",
       " 'capstone.txt',\n",
       " 'Capstone2_PreProcessing.ipynb',\n",
       " 'Change+of+Basis.zip',\n",
       " 'check list.txt',\n",
       " 'churn_data.csv',\n",
       " 'Clustering',\n",
       " 'Clustering assignments guidelines.txt',\n",
       " 'Clustering+Python+Lab (1).ipynb',\n",
       " 'Country-data.csv',\n",
       " 'creditcard.csv',\n",
       " 'Custom Office Templates',\n",
       " 'customer_data.csv',\n",
       " 'Dailytemperaturedata.csv',\n",
       " 'Data Analyst - Walmart',\n",
       " 'DataStorytelling.ipynb',\n",
       " 'Decision trees.ipynb',\n",
       " 'deep learning doc.txt',\n",
       " 'Default.rdp',\n",
       " 'Delhi+Delights+Data.csv',\n",
       " 'Dell',\n",
       " 'desktop.ini',\n",
       " 'details.txt',\n",
       " 'ds-c23-nlp-dl-track-live-session-on-advanced-regression.zip',\n",
       " 'DS_C23_NLP__DL_Track_-_Live_Session_on_Advanced_Regression.ipynb',\n",
       " 'EDA CASE STUDY.ipynb',\n",
       " 'EDA_CASE_STUDY_Mahesh_&_Sravani.ipynb',\n",
       " 'eng consolidated mrklist.pdf',\n",
       " 'Exchange Rate.ipynb',\n",
       " 'exchange-rate-twi.csv',\n",
       " 'Eye class_viraja.pptx',\n",
       " 'FeedbackHub',\n",
       " 'Final Thesis Presentation-0907.mp4',\n",
       " 'Final Thesis Presentation-0907.pptx',\n",
       " 'Final Thesis Presentation-09077.mp4',\n",
       " 'Final Thesis Presentation-09077.pptx',\n",
       " 'Final Thesis Presentation-0907sub.mp4',\n",
       " 'Final Thesis Presentation-2.mp4',\n",
       " 'Final Thesis Presentation-2.pptx',\n",
       " 'Final Thesis Presentation.pptx',\n",
       " 'Final Thesis.ipynb',\n",
       " 'Finding why there is a delay in delivery of drugs to Hospitals using ML algorithm .txt',\n",
       " 'Gesture recognition - Neural Network_v2.0.ipynb',\n",
       " 'Gesture Recognition_Sujitha&Gracious',\n",
       " 'Gesture Recognition_Sujitha&Gracious.zip',\n",
       " 'GitHub',\n",
       " 'Graded_Questions_PCA.ipynb',\n",
       " 'group.txt',\n",
       " 'H1B ext',\n",
       " 'Harvard+Referencing+Guide.pdf',\n",
       " 'heart decision practice.ipynb',\n",
       " 'Heart+Disease+Prediction.ipynb',\n",
       " 'heart_v2.csv',\n",
       " 'Housing+Case+Study+--+Tree+Models.ipynb',\n",
       " 'Housing.csv',\n",
       " 'HyperdenseNet-Pytorch.ipynb',\n",
       " 'HyperDenseNet.ipynb',\n",
       " 'I94 - Recent.pdf',\n",
       " 'IISExpress',\n",
       " 'insurance details.txt',\n",
       " 'internet_data.csv',\n",
       " 'Interview questions.txt',\n",
       " 'Iris.csv',\n",
       " 'Item added PARDETV3.xlsx',\n",
       " 'Join queries.sql',\n",
       " 'kafka basics.docx',\n",
       " 'Lead Scoring Assignment',\n",
       " 'lead scoring data.txt',\n",
       " 'Lead+Scoring+Case+Study',\n",
       " 'Lead+Scoring+Case+Study 0307.zip',\n",
       " 'Lead+Scoring+Case+Study.zip',\n",
       " 'LeadCaseStudyAssignment_Subjective Questions_JaishriIyengar&SravanaKalyani upd.docx',\n",
       " 'LeadCaseStudyAssignment_Subjective Questions_JaishriIyengar&SravanaKalyani.docx',\n",
       " 'LeadCaseStudyAssignment_Summary_JaishriIyengar&SravanaKalyani.docx',\n",
       " 'LeadCaseStudy_JaishriIyengar&SravanaKalyani_Presentation.pptx',\n",
       " 'Leadscore casestudy_kal',\n",
       " 'Lead_Score_Case_Study_Received.ipynb',\n",
       " 'Lecture+Notes+-+Principal+Component+Analysis+(1).pdf',\n",
       " 'linear regression steps.txt',\n",
       " 'Linear+Regression.ipynb',\n",
       " 'LJMU Credentials.docx',\n",
       " 'Logistic Regression-Telecom Churn with PCA.ipynb',\n",
       " 'Logistic+Regression+-+Telecom+Churn+Case+Study.ipynb',\n",
       " 'Logistic+Regression+and+PCA',\n",
       " 'Logistic+Regression+and+PCA.zip',\n",
       " 'LogisticRegression_LeadCaseStudy.ipynb',\n",
       " 'LogisticRegression_LeadCaseStudy_Jaishri&SravanaKalyani.ipynb',\n",
       " 'LogisticRegression_LeadCaseStudy_Univariate.ipynb',\n",
       " 'LogisticRegression_LeadCaseStudy_UPD.ipynb',\n",
       " 'Machine learning algorithms in resume.docx',\n",
       " 'Madhurima input.txt',\n",
       " 'Mahesh Input.txt',\n",
       " 'Mahesh_Babu_R.pdf',\n",
       " 'Mahesh_Babu_R_bkp.pdf',\n",
       " 'max number of characters in a string.txt',\n",
       " 'McAfee Vaults',\n",
       " 'med_data.xlsx',\n",
       " 'Metrail+dataset.csv',\n",
       " 'Ml1 notes.docx',\n",
       " 'Mohit input.txt',\n",
       " 'money tammi.xlsx',\n",
       " 'My Data Sources',\n",
       " 'My Music',\n",
       " 'My Pictures',\n",
       " 'My Tableau Repository',\n",
       " 'My Videos',\n",
       " 'My Web Sites',\n",
       " 'Neural_Nets_Project_Starter_Code (2).ipynb',\n",
       " 'Neural_Nets_Project_Starter_Code.ipynb',\n",
       " 'New folder',\n",
       " 'newhousing.csv',\n",
       " 'NIE approval format Kalyani.docx',\n",
       " 'NIE approval format.docx',\n",
       " 'Online_Retail.csv',\n",
       " 'PCA Demo I.ipynb',\n",
       " 'PCA+Demo+I',\n",
       " 'PCA+Demo+I.zip',\n",
       " 'ppt of sql.docx',\n",
       " 'promotion.csv',\n",
       " 'Python cheat sheet practice.ipynb',\n",
       " 'Python Scripts',\n",
       " 'random knowledge.txt',\n",
       " 'Regularization+Code+++Dataset.zip',\n",
       " 'Remover.jpg',\n",
       " 'Research proposal.docx',\n",
       " 'route.docx',\n",
       " 'Sample - Superstore.xls',\n",
       " 'sample ques.docx',\n",
       " 'Sentiment Analysis.ipynb',\n",
       " 'Simple+Linear+Regression+in+Python.ipynb',\n",
       " 'small.csv',\n",
       " 'Smoothing+Techniques_Calculations.xlsx',\n",
       " 'Sound recordings',\n",
       " 'SQL Practice.sql',\n",
       " 'SQL Server Management Studio',\n",
       " 'sql top queries.sql',\n",
       " 'SravanaKalyani - Client Letter-Final.docx',\n",
       " 'SravanaKalyaniVundela Resume .docx',\n",
       " 'Sravana_Kalyani',\n",
       " 'Sravana_Kalyani_nn (1).ipynb',\n",
       " 'Sravana_Kalyani_nn (2).ipynb',\n",
       " 'stable_windows_10_cmake_Release_x64_graphviz-install-2.46.1-win64.exe',\n",
       " 'Starter_code_Assignment_CNN_Skin_Cancer.ipynb',\n",
       " 'Tableau',\n",
       " 'Teladoc .txt',\n",
       " 'Telecom churn data casestudy.ipynb',\n",
       " 'Telecom+Churn+-+Logistic+++DT+++RF.ipynb',\n",
       " 'telecom_churn_data.csv',\n",
       " 'Telecom_Churn_v2.ipynb',\n",
       " 'Telecom_Churn_v3.ipynb',\n",
       " 'Teradata.docx',\n",
       " 'Teradata2.docx',\n",
       " 'Testcases WSPARITM.xlsx',\n",
       " 'thesis info.txt',\n",
       " 'Time Series 1 Practice .ipynb',\n",
       " 'Time+series+code+part1+(1).ipynb',\n",
       " 'time-series-code.ipynb',\n",
       " 'TIMECORRECTION - Template HCA - Subcons 0.1.xlsx',\n",
       " 'train.csv',\n",
       " 'TSF+Code+Session1+and+2.ipynb',\n",
       " 'Ultimate_Chalenge.ipynb',\n",
       " 'unpack',\n",
       " 'UNRATE.csv',\n",
       " 'Untitled.ipynb',\n",
       " 'Untitled1.ipynb',\n",
       " 'Untitled2.ipynb',\n",
       " 'Untitled7.ipynb',\n",
       " 'Untitled8.ipynb',\n",
       " 'Untitled9.ipynb',\n",
       " 'US Travel.txt',\n",
       " 'venkataraghavareddy.txt',\n",
       " 'video link.txt',\n",
       " 'Video_Games_5.json',\n",
       " 'Video_Games_5.json.gz',\n",
       " 'Visual Studio 2017',\n",
       " 'Visual Studio 2022',\n",
       " 'Walmart expected duties.txt',\n",
       " 'Web+Scraping_imdb.ipynb',\n",
       " 'Working_With_Chest_XRay_Images- (1).ipynb',\n",
       " 'Working_With_Chest_XRay_Images- (2).ipynb',\n",
       " 'Working_With_Chest_XRay_Images-.ipynb',\n",
       " 'Working_With_Flower_Images.ipynb',\n",
       " 'XGBoost+-+Hyperparameter+Optimization.ipynb',\n",
       " 'XGBoost+Classification.ipynb',\n",
       " 'Zoom',\n",
       " '~$AWS.docx',\n",
       " '~$chine learning algorithms in resume.docx',\n",
       " '~$MU Credentials.docx',\n",
       " '~WRL2025.tmp',\n",
       " '~WRL2889.tmp']"
      ]
     },
     "execution_count": 6,
     "metadata": {},
     "output_type": "execute_result"
    }
   ],
   "source": [
    "os.listdir(\"C:\\\\Users\\\\16692\\\\Documents\")"
   ]
  },
  {
   "cell_type": "code",
   "execution_count": 7,
   "metadata": {},
   "outputs": [],
   "source": [
    "# reading reviews from json file\n",
    "with open(\"C:\\\\Users\\\\16692\\\\Documents\\\\Video_Games_5.json\",encoding=\"utf8\") as f:\n",
    "    data = ndjson.load(f)"
   ]
  },
  {
   "cell_type": "code",
   "execution_count": 9,
   "metadata": {},
   "outputs": [
    {
     "data": {
      "text/html": [
       "<div>\n",
       "<style scoped>\n",
       "    .dataframe tbody tr th:only-of-type {\n",
       "        vertical-align: middle;\n",
       "    }\n",
       "\n",
       "    .dataframe tbody tr th {\n",
       "        vertical-align: top;\n",
       "    }\n",
       "\n",
       "    .dataframe thead th {\n",
       "        text-align: right;\n",
       "    }\n",
       "</style>\n",
       "<table border=\"1\" class=\"dataframe\">\n",
       "  <thead>\n",
       "    <tr style=\"text-align: right;\">\n",
       "      <th></th>\n",
       "      <th>overall</th>\n",
       "      <th>verified</th>\n",
       "      <th>reviewTime</th>\n",
       "      <th>reviewerID</th>\n",
       "      <th>asin</th>\n",
       "      <th>reviewerName</th>\n",
       "      <th>reviewText</th>\n",
       "      <th>summary</th>\n",
       "      <th>unixReviewTime</th>\n",
       "      <th>vote</th>\n",
       "      <th>style</th>\n",
       "      <th>image</th>\n",
       "    </tr>\n",
       "  </thead>\n",
       "  <tbody>\n",
       "    <tr>\n",
       "      <th>0</th>\n",
       "      <td>5.0</td>\n",
       "      <td>True</td>\n",
       "      <td>10 17, 2015</td>\n",
       "      <td>A1HP7NVNPFMA4N</td>\n",
       "      <td>0700026657</td>\n",
       "      <td>Ambrosia075</td>\n",
       "      <td>This game is a bit hard to get the hang of, bu...</td>\n",
       "      <td>but when you do it's great.</td>\n",
       "      <td>1445040000</td>\n",
       "      <td>NaN</td>\n",
       "      <td>NaN</td>\n",
       "      <td>NaN</td>\n",
       "    </tr>\n",
       "    <tr>\n",
       "      <th>1</th>\n",
       "      <td>4.0</td>\n",
       "      <td>False</td>\n",
       "      <td>07 27, 2015</td>\n",
       "      <td>A1JGAP0185YJI6</td>\n",
       "      <td>0700026657</td>\n",
       "      <td>travis</td>\n",
       "      <td>I played it a while but it was alright. The st...</td>\n",
       "      <td>But in spite of that it was fun, I liked it</td>\n",
       "      <td>1437955200</td>\n",
       "      <td>NaN</td>\n",
       "      <td>NaN</td>\n",
       "      <td>NaN</td>\n",
       "    </tr>\n",
       "    <tr>\n",
       "      <th>2</th>\n",
       "      <td>3.0</td>\n",
       "      <td>True</td>\n",
       "      <td>02 23, 2015</td>\n",
       "      <td>A1YJWEXHQBWK2B</td>\n",
       "      <td>0700026657</td>\n",
       "      <td>Vincent G. Mezera</td>\n",
       "      <td>ok game.</td>\n",
       "      <td>Three Stars</td>\n",
       "      <td>1424649600</td>\n",
       "      <td>NaN</td>\n",
       "      <td>NaN</td>\n",
       "      <td>NaN</td>\n",
       "    </tr>\n",
       "    <tr>\n",
       "      <th>3</th>\n",
       "      <td>2.0</td>\n",
       "      <td>True</td>\n",
       "      <td>02 20, 2015</td>\n",
       "      <td>A2204E1TH211HT</td>\n",
       "      <td>0700026657</td>\n",
       "      <td>Grandma KR</td>\n",
       "      <td>found the game a bit too complicated, not what...</td>\n",
       "      <td>Two Stars</td>\n",
       "      <td>1424390400</td>\n",
       "      <td>NaN</td>\n",
       "      <td>NaN</td>\n",
       "      <td>NaN</td>\n",
       "    </tr>\n",
       "    <tr>\n",
       "      <th>4</th>\n",
       "      <td>5.0</td>\n",
       "      <td>True</td>\n",
       "      <td>12 25, 2014</td>\n",
       "      <td>A2RF5B5H74JLPE</td>\n",
       "      <td>0700026657</td>\n",
       "      <td>jon</td>\n",
       "      <td>great game, I love it and have played it since...</td>\n",
       "      <td>love this game</td>\n",
       "      <td>1419465600</td>\n",
       "      <td>NaN</td>\n",
       "      <td>NaN</td>\n",
       "      <td>NaN</td>\n",
       "    </tr>\n",
       "  </tbody>\n",
       "</table>\n",
       "</div>"
      ],
      "text/plain": [
       "   overall  verified   reviewTime      reviewerID        asin  \\\n",
       "0      5.0      True  10 17, 2015  A1HP7NVNPFMA4N  0700026657   \n",
       "1      4.0     False  07 27, 2015  A1JGAP0185YJI6  0700026657   \n",
       "2      3.0      True  02 23, 2015  A1YJWEXHQBWK2B  0700026657   \n",
       "3      2.0      True  02 20, 2015  A2204E1TH211HT  0700026657   \n",
       "4      5.0      True  12 25, 2014  A2RF5B5H74JLPE  0700026657   \n",
       "\n",
       "        reviewerName                                         reviewText  \\\n",
       "0        Ambrosia075  This game is a bit hard to get the hang of, bu...   \n",
       "1             travis  I played it a while but it was alright. The st...   \n",
       "2  Vincent G. Mezera                                           ok game.   \n",
       "3         Grandma KR  found the game a bit too complicated, not what...   \n",
       "4                jon  great game, I love it and have played it since...   \n",
       "\n",
       "                                       summary  unixReviewTime vote style  \\\n",
       "0                  but when you do it's great.      1445040000  NaN   NaN   \n",
       "1  But in spite of that it was fun, I liked it      1437955200  NaN   NaN   \n",
       "2                                  Three Stars      1424649600  NaN   NaN   \n",
       "3                                    Two Stars      1424390400  NaN   NaN   \n",
       "4                               love this game      1419465600  NaN   NaN   \n",
       "\n",
       "  image  \n",
       "0   NaN  \n",
       "1   NaN  \n",
       "2   NaN  \n",
       "3   NaN  \n",
       "4   NaN  "
      ]
     },
     "execution_count": 9,
     "metadata": {},
     "output_type": "execute_result"
    }
   ],
   "source": [
    "#Converting json file to DataFrame\n",
    "ama_df = pd.DataFrame(data)\n",
    "ama_df.head()"
   ]
  },
  {
   "cell_type": "markdown",
   "metadata": {},
   "source": [
    "reviewerID - ID of the reviewer, e.g. A2SUAM1J3GNN3B\n",
    "asin - ID of the product, e.g. 0000013714\n",
    "reviewerName - name of the reviewer\n",
    "vote - helpful votes of the review\n",
    "style - a disctionary of the product metadata, e.g., \"Format\" is \"Hardcover\"\n",
    "reviewText - text of the review\n",
    "overall - rating of the product\n",
    "summary - summary of the review\n",
    "unixReviewTime - time of the review (unix time)\n",
    "reviewTime - time of the review (raw)\n",
    "image - images that users post after they have received the product"
   ]
  },
  {
   "cell_type": "code",
   "execution_count": 10,
   "metadata": {},
   "outputs": [
    {
     "data": {
      "text/plain": [
       "(497577, 12)"
      ]
     },
     "execution_count": 10,
     "metadata": {},
     "output_type": "execute_result"
    }
   ],
   "source": [
    "#The Python shape method returns a tuple denoting the dimensions of a Python object on which it is applied. \n",
    "#These Python objects on which the shape method is applied is usually a numpy.array or a pandas.DataFrame.\n",
    "#The number of elements in the tuple returned by the shape method is equal to the number of dimensions in the Python object.\n",
    "ama_df.shape"
   ]
  },
  {
   "cell_type": "code",
   "execution_count": 11,
   "metadata": {},
   "outputs": [
    {
     "name": "stdout",
     "output_type": "stream",
     "text": [
      "<class 'pandas.core.frame.DataFrame'>\n",
      "RangeIndex: 497577 entries, 0 to 497576\n",
      "Data columns (total 12 columns):\n",
      " #   Column          Non-Null Count   Dtype  \n",
      "---  ------          --------------   -----  \n",
      " 0   overall         497577 non-null  float64\n",
      " 1   verified        497577 non-null  bool   \n",
      " 2   reviewTime      497577 non-null  object \n",
      " 3   reviewerID      497577 non-null  object \n",
      " 4   asin            497577 non-null  object \n",
      " 5   reviewerName    497501 non-null  object \n",
      " 6   reviewText      497419 non-null  object \n",
      " 7   summary         497468 non-null  object \n",
      " 8   unixReviewTime  497577 non-null  int64  \n",
      " 9   vote            107793 non-null  object \n",
      " 10  style           289237 non-null  object \n",
      " 11  image           3634 non-null    object \n",
      "dtypes: bool(1), float64(1), int64(1), object(9)\n",
      "memory usage: 42.2+ MB\n"
     ]
    }
   ],
   "source": [
    "#This Method prints the information or summary of the dataframe. It prints the various information of the Dataframe such as index type, dtype, columns, non-values, and memory usage.\n",
    "#It gives a quick overview of the dataset\n",
    "ama_df.info()"
   ]
  },
  {
   "cell_type": "code",
   "execution_count": 12,
   "metadata": {},
   "outputs": [
    {
     "data": {
      "text/plain": [
       "<AxesSubplot:xlabel='overall', ylabel='count'>"
      ]
     },
     "execution_count": 12,
     "metadata": {},
     "output_type": "execute_result"
    },
    {
     "data": {
      "image/png": "[encoded data removed]",
      "text/plain": [
       "<Figure size 432x288 with 1 Axes>"
      ]
     },
     "metadata": {
      "needs_background": "light"
     },
     "output_type": "display_data"
    }
   ],
   "source": [
    "#When you use sns.countplot, Seaborn literally counts the number of observations per category for a categorical variable, and displays the results as a bar chart. \n",
    "#Essentially, the Seaborn countplot () is a way to create a type of bar chart in Python.\n",
    "\n",
    "sns.countplot(data = ama_df, x='overall')"
   ]
  },
  {
   "cell_type": "code",
   "execution_count": 13,
   "metadata": {},
   "outputs": [
    {
     "data": {
      "text/plain": [
       "17408"
      ]
     },
     "execution_count": 13,
     "metadata": {},
     "output_type": "execute_result"
    }
   ],
   "source": [
    "#The value_counts () function is used to get a Series containing counts of unique values. The resulting object will be in descending order so that the first element is the most frequently-occurring element.\n",
    "#Excludes NA values by default dropna = False means the original dataframe will not be changed\n",
    "\n",
    "len(ama_df['asin'].value_counts(dropna=False))"
   ]
  },
  {
   "cell_type": "code",
   "execution_count": 14,
   "metadata": {},
   "outputs": [],
   "source": [
    "#creating small dataframes w.r.t to the ratings\n",
    "Rone_1500 = ama_df[ama_df['overall']==1.0].sample(n=1500)\n",
    "Rtwo_500 = ama_df[ama_df['overall']==2.0].sample(n=500)\n",
    "Rthree_500 = ama_df[ama_df['overall']==3.0].sample(n=500)\n",
    "Rfour_500 = ama_df[ama_df['overall']==4.0].sample(n=500)\n",
    "Rfive_1500 = ama_df[ama_df['overall']==5.0].sample(n=1500)"
   ]
  },
  {
   "cell_type": "code",
   "execution_count": 15,
   "metadata": {},
   "outputs": [],
   "source": [
    "#Concatenating the ratings for above reviews\n",
    "UR = pd.concat([Rone_1500, Rtwo_500, Rthree_500, Rfour_500, Rfive_1500], axis=0)"
   ]
  },
  {
   "cell_type": "code",
   "execution_count": 16,
   "metadata": {},
   "outputs": [
    {
     "data": {
      "text/plain": [
       "5.0    1500\n",
       "1.0    1500\n",
       "4.0     500\n",
       "3.0     500\n",
       "2.0     500\n",
       "Name: overall, dtype: int64"
      ]
     },
     "execution_count": 16,
     "metadata": {},
     "output_type": "execute_result"
    }
   ],
   "source": [
    "#Checking number of observations per category w.r.t to rating \n",
    "UR['overall'].value_counts(dropna=False)"
   ]
  },
  {
   "cell_type": "code",
   "execution_count": 17,
   "metadata": {},
   "outputs": [
    {
     "data": {
      "text/plain": [
       "<AxesSubplot:xlabel='overall', ylabel='count'>"
      ]
     },
     "execution_count": 17,
     "metadata": {},
     "output_type": "execute_result"
    },
    {
     "data": {
      "image/png": "[encoded data removed]",
      "text/plain": [
       "<Figure size 432x288 with 1 Axes>"
      ]
     },
     "metadata": {
      "needs_background": "light"
     },
     "output_type": "display_data"
    }
   ],
   "source": [
    "#Plotting a countplot for this  data \n",
    "sns.countplot(data=UR, x='overall')"
   ]
  },
  {
   "cell_type": "code",
   "execution_count": 18,
   "metadata": {},
   "outputs": [
    {
     "data": {
      "text/html": [
       "<div>\n",
       "<style scoped>\n",
       "    .dataframe tbody tr th:only-of-type {\n",
       "        vertical-align: middle;\n",
       "    }\n",
       "\n",
       "    .dataframe tbody tr th {\n",
       "        vertical-align: top;\n",
       "    }\n",
       "\n",
       "    .dataframe thead th {\n",
       "        text-align: right;\n",
       "    }\n",
       "</style>\n",
       "<table border=\"1\" class=\"dataframe\">\n",
       "  <thead>\n",
       "    <tr style=\"text-align: right;\">\n",
       "      <th></th>\n",
       "      <th>overall</th>\n",
       "      <th>verified</th>\n",
       "      <th>reviewTime</th>\n",
       "      <th>reviewerID</th>\n",
       "      <th>asin</th>\n",
       "      <th>reviewerName</th>\n",
       "      <th>reviewText</th>\n",
       "      <th>summary</th>\n",
       "      <th>unixReviewTime</th>\n",
       "      <th>vote</th>\n",
       "      <th>style</th>\n",
       "      <th>image</th>\n",
       "    </tr>\n",
       "  </thead>\n",
       "  <tbody>\n",
       "    <tr>\n",
       "      <th>364850</th>\n",
       "      <td>5.0</td>\n",
       "      <td>True</td>\n",
       "      <td>12 17, 2015</td>\n",
       "      <td>A2DABQ8D1XJT05</td>\n",
       "      <td>B00KWEH61U</td>\n",
       "      <td>Maryann</td>\n",
       "      <td>Love this 3ds game. I made a zombie Togepi wit...</td>\n",
       "      <td>Love this 3ds game</td>\n",
       "      <td>1450310400</td>\n",
       "      <td>NaN</td>\n",
       "      <td>NaN</td>\n",
       "      <td>NaN</td>\n",
       "    </tr>\n",
       "    <tr>\n",
       "      <th>216628</th>\n",
       "      <td>5.0</td>\n",
       "      <td>True</td>\n",
       "      <td>12 28, 2014</td>\n",
       "      <td>ANALWGWPY8HEA</td>\n",
       "      <td>B003S2JI82</td>\n",
       "      <td>John</td>\n",
       "      <td>Fun game</td>\n",
       "      <td>fun game</td>\n",
       "      <td>1419724800</td>\n",
       "      <td>NaN</td>\n",
       "      <td>{'Platform:': ' Nintendo Wii'}</td>\n",
       "      <td>NaN</td>\n",
       "    </tr>\n",
       "    <tr>\n",
       "      <th>319038</th>\n",
       "      <td>5.0</td>\n",
       "      <td>True</td>\n",
       "      <td>09 2, 2013</td>\n",
       "      <td>AZC9D5RVK7GR6</td>\n",
       "      <td>B00DTWES6I</td>\n",
       "      <td>Tye D. Reed</td>\n",
       "      <td>This game is so fun.  I think it is the best S...</td>\n",
       "      <td>Wow sooooo awsome</td>\n",
       "      <td>1378080000</td>\n",
       "      <td>NaN</td>\n",
       "      <td>{'Edition:': ' Deluxe', 'Platform:': ' PC Down...</td>\n",
       "      <td>NaN</td>\n",
       "    </tr>\n",
       "    <tr>\n",
       "      <th>440696</th>\n",
       "      <td>5.0</td>\n",
       "      <td>False</td>\n",
       "      <td>01 15, 2018</td>\n",
       "      <td>A9SIXGGYKDBD</td>\n",
       "      <td>B01GKF7T9S</td>\n",
       "      <td>Jaguar 10</td>\n",
       "      <td>I hated the first game but absolutely love thi...</td>\n",
       "      <td>Don't let Watchdogs 1 Deter You - this game is...</td>\n",
       "      <td>1515974400</td>\n",
       "      <td>NaN</td>\n",
       "      <td>{'Edition:': ' Standard', 'Platform:': ' PlayS...</td>\n",
       "      <td>NaN</td>\n",
       "    </tr>\n",
       "    <tr>\n",
       "      <th>287513</th>\n",
       "      <td>5.0</td>\n",
       "      <td>True</td>\n",
       "      <td>04 9, 2015</td>\n",
       "      <td>A1WDH8O30ZC16S</td>\n",
       "      <td>B00B67ZTUW</td>\n",
       "      <td>Atomic Kitty</td>\n",
       "      <td>Love the Tales games. Glad I purchased this one.</td>\n",
       "      <td>Great game, interactive for two players as well.</td>\n",
       "      <td>1428537600</td>\n",
       "      <td>NaN</td>\n",
       "      <td>{'Color:': ' Playstation 3'}</td>\n",
       "      <td>NaN</td>\n",
       "    </tr>\n",
       "    <tr>\n",
       "      <th>...</th>\n",
       "      <td>...</td>\n",
       "      <td>...</td>\n",
       "      <td>...</td>\n",
       "      <td>...</td>\n",
       "      <td>...</td>\n",
       "      <td>...</td>\n",
       "      <td>...</td>\n",
       "      <td>...</td>\n",
       "      <td>...</td>\n",
       "      <td>...</td>\n",
       "      <td>...</td>\n",
       "      <td>...</td>\n",
       "    </tr>\n",
       "    <tr>\n",
       "      <th>25721</th>\n",
       "      <td>4.0</td>\n",
       "      <td>True</td>\n",
       "      <td>01 28, 2015</td>\n",
       "      <td>A1J1F06GHQY2F7</td>\n",
       "      <td>B00005NECC</td>\n",
       "      <td>Michael Curtiss</td>\n",
       "      <td>This is a good game though my son was too youn...</td>\n",
       "      <td>GOOD GAME</td>\n",
       "      <td>1422403200</td>\n",
       "      <td>NaN</td>\n",
       "      <td>{'Edition:': ' Standard', 'Platform:': ' Game ...</td>\n",
       "      <td>NaN</td>\n",
       "    </tr>\n",
       "    <tr>\n",
       "      <th>250120</th>\n",
       "      <td>5.0</td>\n",
       "      <td>True</td>\n",
       "      <td>09 7, 2011</td>\n",
       "      <td>A33GG85KTMLDSW</td>\n",
       "      <td>B0053OLY9O</td>\n",
       "      <td>OJ Silk</td>\n",
       "      <td>I am very pleased with this headset. The sound...</td>\n",
       "      <td>Kudos to Sony -- excellent headset for PS3 &amp; PC</td>\n",
       "      <td>1315353600</td>\n",
       "      <td>4</td>\n",
       "      <td>NaN</td>\n",
       "      <td>NaN</td>\n",
       "    </tr>\n",
       "    <tr>\n",
       "      <th>394578</th>\n",
       "      <td>5.0</td>\n",
       "      <td>True</td>\n",
       "      <td>01 23, 2017</td>\n",
       "      <td>A2S9KXJ24VRD5S</td>\n",
       "      <td>B00VHWMK44</td>\n",
       "      <td>Vince</td>\n",
       "      <td>kids love them</td>\n",
       "      <td>worth the pice</td>\n",
       "      <td>1485129600</td>\n",
       "      <td>NaN</td>\n",
       "      <td>{'Color:': ' Splatoon 3-pack', 'Edition:': ' U...</td>\n",
       "      <td>NaN</td>\n",
       "    </tr>\n",
       "    <tr>\n",
       "      <th>472515</th>\n",
       "      <td>5.0</td>\n",
       "      <td>True</td>\n",
       "      <td>06 11, 2013</td>\n",
       "      <td>A1Q671HPKJ50KD</td>\n",
       "      <td>B0018C1MF6</td>\n",
       "      <td>MAJIORLEAGUE</td>\n",
       "      <td>I read some of the reviews on this bag and the...</td>\n",
       "      <td>BETTER THAN I EXPECTED!</td>\n",
       "      <td>1370908800</td>\n",
       "      <td>NaN</td>\n",
       "      <td>NaN</td>\n",
       "      <td>NaN</td>\n",
       "    </tr>\n",
       "    <tr>\n",
       "      <th>290075</th>\n",
       "      <td>5.0</td>\n",
       "      <td>False</td>\n",
       "      <td>10 25, 2013</td>\n",
       "      <td>A3K43UM7TWLC6K</td>\n",
       "      <td>B00BGA9V2Q</td>\n",
       "      <td>Gc</td>\n",
       "      <td>I go way back to the original Diablo when that...</td>\n",
       "      <td>I was one of those haters</td>\n",
       "      <td>1382659200</td>\n",
       "      <td>2</td>\n",
       "      <td>{'Format:': ' Video Game'}</td>\n",
       "      <td>NaN</td>\n",
       "    </tr>\n",
       "  </tbody>\n",
       "</table>\n",
       "<p>100000 rows × 12 columns</p>\n",
       "</div>"
      ],
      "text/plain": [
       "        overall  verified   reviewTime      reviewerID        asin  \\\n",
       "364850      5.0      True  12 17, 2015  A2DABQ8D1XJT05  B00KWEH61U   \n",
       "216628      5.0      True  12 28, 2014   ANALWGWPY8HEA  B003S2JI82   \n",
       "319038      5.0      True   09 2, 2013   AZC9D5RVK7GR6  B00DTWES6I   \n",
       "440696      5.0     False  01 15, 2018    A9SIXGGYKDBD  B01GKF7T9S   \n",
       "287513      5.0      True   04 9, 2015  A1WDH8O30ZC16S  B00B67ZTUW   \n",
       "...         ...       ...          ...             ...         ...   \n",
       "25721       4.0      True  01 28, 2015  A1J1F06GHQY2F7  B00005NECC   \n",
       "250120      5.0      True   09 7, 2011  A33GG85KTMLDSW  B0053OLY9O   \n",
       "394578      5.0      True  01 23, 2017  A2S9KXJ24VRD5S  B00VHWMK44   \n",
       "472515      5.0      True  06 11, 2013  A1Q671HPKJ50KD  B0018C1MF6   \n",
       "290075      5.0     False  10 25, 2013  A3K43UM7TWLC6K  B00BGA9V2Q   \n",
       "\n",
       "           reviewerName                                         reviewText  \\\n",
       "364850          Maryann  Love this 3ds game. I made a zombie Togepi wit...   \n",
       "216628             John                                           Fun game   \n",
       "319038      Tye D. Reed  This game is so fun.  I think it is the best S...   \n",
       "440696        Jaguar 10  I hated the first game but absolutely love thi...   \n",
       "287513     Atomic Kitty   Love the Tales games. Glad I purchased this one.   \n",
       "...                 ...                                                ...   \n",
       "25721   Michael Curtiss  This is a good game though my son was too youn...   \n",
       "250120          OJ Silk  I am very pleased with this headset. The sound...   \n",
       "394578            Vince                                     kids love them   \n",
       "472515     MAJIORLEAGUE  I read some of the reviews on this bag and the...   \n",
       "290075               Gc  I go way back to the original Diablo when that...   \n",
       "\n",
       "                                                  summary  unixReviewTime  \\\n",
       "364850                                 Love this 3ds game      1450310400   \n",
       "216628                                           fun game      1419724800   \n",
       "319038                                  Wow sooooo awsome      1378080000   \n",
       "440696  Don't let Watchdogs 1 Deter You - this game is...      1515974400   \n",
       "287513   Great game, interactive for two players as well.      1428537600   \n",
       "...                                                   ...             ...   \n",
       "25721                                           GOOD GAME      1422403200   \n",
       "250120    Kudos to Sony -- excellent headset for PS3 & PC      1315353600   \n",
       "394578                                     worth the pice      1485129600   \n",
       "472515                            BETTER THAN I EXPECTED!      1370908800   \n",
       "290075                          I was one of those haters      1382659200   \n",
       "\n",
       "       vote                                              style image  \n",
       "364850  NaN                                                NaN   NaN  \n",
       "216628  NaN                     {'Platform:': ' Nintendo Wii'}   NaN  \n",
       "319038  NaN  {'Edition:': ' Deluxe', 'Platform:': ' PC Down...   NaN  \n",
       "440696  NaN  {'Edition:': ' Standard', 'Platform:': ' PlayS...   NaN  \n",
       "287513  NaN                       {'Color:': ' Playstation 3'}   NaN  \n",
       "...     ...                                                ...   ...  \n",
       "25721   NaN  {'Edition:': ' Standard', 'Platform:': ' Game ...   NaN  \n",
       "250120    4                                                NaN   NaN  \n",
       "394578  NaN  {'Color:': ' Splatoon 3-pack', 'Edition:': ' U...   NaN  \n",
       "472515  NaN                                                NaN   NaN  \n",
       "290075    2                         {'Format:': ' Video Game'}   NaN  \n",
       "\n",
       "[100000 rows x 12 columns]"
      ]
     },
     "execution_count": 18,
     "metadata": {},
     "output_type": "execute_result"
    }
   ],
   "source": [
    "#Random sampling of the reviews \n",
    "hundredk_reviews = ama_df.sample(n=100000, random_state=42)\n",
    "hundredk_reviews"
   ]
  },
  {
   "cell_type": "code",
   "execution_count": 19,
   "metadata": {},
   "outputs": [],
   "source": [
    "#Writing random and 100k records into csv file\n",
    "UR.to_csv(r\"C:\\Users\\16692\\Documents\\small.csv\", index=False)\n",
    "hundredk_reviews.to_csv(r\"C:\\Users\\16692\\Documents\\big.csv\", index=False)"
   ]
  },
  {
   "cell_type": "code",
   "execution_count": 20,
   "metadata": {},
   "outputs": [],
   "source": [
    "#Creating sentiment analyzer\n",
    "import pandas as pd\n",
    "import nltk\n",
    "from IPython.display import display\n",
    "pd.set_option('display.max_columns', None)"
   ]
  },
  {
   "cell_type": "code",
   "execution_count": 21,
   "metadata": {},
   "outputs": [
    {
     "data": {
      "text/html": [
       "<div>\n",
       "<style scoped>\n",
       "    .dataframe tbody tr th:only-of-type {\n",
       "        vertical-align: middle;\n",
       "    }\n",
       "\n",
       "    .dataframe tbody tr th {\n",
       "        vertical-align: top;\n",
       "    }\n",
       "\n",
       "    .dataframe thead th {\n",
       "        text-align: right;\n",
       "    }\n",
       "</style>\n",
       "<table border=\"1\" class=\"dataframe\">\n",
       "  <thead>\n",
       "    <tr style=\"text-align: right;\">\n",
       "      <th></th>\n",
       "      <th>overall</th>\n",
       "      <th>verified</th>\n",
       "      <th>reviewTime</th>\n",
       "      <th>reviewerID</th>\n",
       "      <th>asin</th>\n",
       "      <th>reviewerName</th>\n",
       "      <th>reviewText</th>\n",
       "      <th>summary</th>\n",
       "      <th>unixReviewTime</th>\n",
       "      <th>vote</th>\n",
       "      <th>style</th>\n",
       "      <th>image</th>\n",
       "    </tr>\n",
       "  </thead>\n",
       "  <tbody>\n",
       "    <tr>\n",
       "      <th>0</th>\n",
       "      <td>1.0</td>\n",
       "      <td>False</td>\n",
       "      <td>10 3, 2013</td>\n",
       "      <td>A10RFAF1CGFKHZ</td>\n",
       "      <td>B000CN750I</td>\n",
       "      <td>J.C.</td>\n",
       "      <td>...you're relying on it's preloaded cheat code...</td>\n",
       "      <td>DO NOT buy this disk - A waste of money unless...</td>\n",
       "      <td>1380758400</td>\n",
       "      <td>2.0</td>\n",
       "      <td>NaN</td>\n",
       "      <td>NaN</td>\n",
       "    </tr>\n",
       "    <tr>\n",
       "      <th>1</th>\n",
       "      <td>1.0</td>\n",
       "      <td>True</td>\n",
       "      <td>01 22, 2011</td>\n",
       "      <td>A3RUOVKA1S5NYX</td>\n",
       "      <td>B00005MAMO</td>\n",
       "      <td>ksnod</td>\n",
       "      <td>They said it was in Good condition, thats what...</td>\n",
       "      <td>Peice of Crap</td>\n",
       "      <td>1295654400</td>\n",
       "      <td>NaN</td>\n",
       "      <td>NaN</td>\n",
       "      <td>NaN</td>\n",
       "    </tr>\n",
       "    <tr>\n",
       "      <th>2</th>\n",
       "      <td>1.0</td>\n",
       "      <td>False</td>\n",
       "      <td>11 26, 2010</td>\n",
       "      <td>A2UWYXQMVSPP0Z</td>\n",
       "      <td>B0012N746W</td>\n",
       "      <td>majorlynch</td>\n",
       "      <td>When I buy a game I want to be able to buy the...</td>\n",
       "      <td>NO DLC FOR PS3!!!</td>\n",
       "      <td>1290729600</td>\n",
       "      <td>5.0</td>\n",
       "      <td>{'Format:': ' Video Game'}</td>\n",
       "      <td>NaN</td>\n",
       "    </tr>\n",
       "    <tr>\n",
       "      <th>3</th>\n",
       "      <td>1.0</td>\n",
       "      <td>True</td>\n",
       "      <td>03 23, 2011</td>\n",
       "      <td>A2KZ5ABOP3EORT</td>\n",
       "      <td>B002BS47YE</td>\n",
       "      <td>Brent A. Feinberg</td>\n",
       "      <td>I was really looking forward to this game show...</td>\n",
       "      <td>Horrible port of an XBOX 360 game</td>\n",
       "      <td>1300838400</td>\n",
       "      <td>21.0</td>\n",
       "      <td>{'Format:': ' Video Game'}</td>\n",
       "      <td>NaN</td>\n",
       "    </tr>\n",
       "    <tr>\n",
       "      <th>4</th>\n",
       "      <td>1.0</td>\n",
       "      <td>False</td>\n",
       "      <td>11 15, 2016</td>\n",
       "      <td>A2IFUYQJJE09D</td>\n",
       "      <td>B01GKF824Y</td>\n",
       "      <td>TimetoRise</td>\n",
       "      <td>Terribly boring and quite honestly not very fu...</td>\n",
       "      <td>Boring and Repetitive</td>\n",
       "      <td>1479168000</td>\n",
       "      <td>5.0</td>\n",
       "      <td>{'Edition:': ' Standard', 'Platform:': ' Xbox ...</td>\n",
       "      <td>NaN</td>\n",
       "    </tr>\n",
       "  </tbody>\n",
       "</table>\n",
       "</div>"
      ],
      "text/plain": [
       "   overall  verified   reviewTime      reviewerID        asin  \\\n",
       "0      1.0     False   10 3, 2013  A10RFAF1CGFKHZ  B000CN750I   \n",
       "1      1.0      True  01 22, 2011  A3RUOVKA1S5NYX  B00005MAMO   \n",
       "2      1.0     False  11 26, 2010  A2UWYXQMVSPP0Z  B0012N746W   \n",
       "3      1.0      True  03 23, 2011  A2KZ5ABOP3EORT  B002BS47YE   \n",
       "4      1.0     False  11 15, 2016   A2IFUYQJJE09D  B01GKF824Y   \n",
       "\n",
       "        reviewerName                                         reviewText  \\\n",
       "0               J.C.  ...you're relying on it's preloaded cheat code...   \n",
       "1              ksnod  They said it was in Good condition, thats what...   \n",
       "2         majorlynch  When I buy a game I want to be able to buy the...   \n",
       "3  Brent A. Feinberg  I was really looking forward to this game show...   \n",
       "4         TimetoRise  Terribly boring and quite honestly not very fu...   \n",
       "\n",
       "                                             summary  unixReviewTime  vote  \\\n",
       "0  DO NOT buy this disk - A waste of money unless...      1380758400   2.0   \n",
       "1                                      Peice of Crap      1295654400   NaN   \n",
       "2                                  NO DLC FOR PS3!!!      1290729600   5.0   \n",
       "3                  Horrible port of an XBOX 360 game      1300838400  21.0   \n",
       "4                              Boring and Repetitive      1479168000   5.0   \n",
       "\n",
       "                                               style image  \n",
       "0                                                NaN   NaN  \n",
       "1                                                NaN   NaN  \n",
       "2                         {'Format:': ' Video Game'}   NaN  \n",
       "3                         {'Format:': ' Video Game'}   NaN  \n",
       "4  {'Edition:': ' Standard', 'Platform:': ' Xbox ...   NaN  "
      ]
     },
     "execution_count": 21,
     "metadata": {},
     "output_type": "execute_result"
    }
   ],
   "source": [
    "#Loading csv file \n",
    "reviews = pd.read_csv(r\"C:\\Users\\16692\\Documents\\small.csv\")\n",
    "reviews.head()"
   ]
  },
  {
   "cell_type": "code",
   "execution_count": 22,
   "metadata": {},
   "outputs": [
    {
     "data": {
      "text/html": [
       "<div>\n",
       "<style scoped>\n",
       "    .dataframe tbody tr th:only-of-type {\n",
       "        vertical-align: middle;\n",
       "    }\n",
       "\n",
       "    .dataframe tbody tr th {\n",
       "        vertical-align: top;\n",
       "    }\n",
       "\n",
       "    .dataframe thead th {\n",
       "        text-align: right;\n",
       "    }\n",
       "</style>\n",
       "<table border=\"1\" class=\"dataframe\">\n",
       "  <thead>\n",
       "    <tr style=\"text-align: right;\">\n",
       "      <th></th>\n",
       "      <th>overall</th>\n",
       "      <th>verified</th>\n",
       "      <th>reviewTime</th>\n",
       "      <th>reviewerID</th>\n",
       "      <th>asin</th>\n",
       "      <th>reviewerName</th>\n",
       "      <th>reviewText</th>\n",
       "      <th>summary</th>\n",
       "      <th>unixReviewTime</th>\n",
       "      <th>vote</th>\n",
       "      <th>style</th>\n",
       "      <th>image</th>\n",
       "    </tr>\n",
       "  </thead>\n",
       "  <tbody>\n",
       "    <tr>\n",
       "      <th>0</th>\n",
       "      <td>1.0</td>\n",
       "      <td>False</td>\n",
       "      <td>10 3, 2013</td>\n",
       "      <td>A10RFAF1CGFKHZ</td>\n",
       "      <td>B000CN750I</td>\n",
       "      <td>J.C.</td>\n",
       "      <td>...you're relying on it's preloaded cheat code...</td>\n",
       "      <td>DO NOT buy this disk - A waste of money unless...</td>\n",
       "      <td>1380758400</td>\n",
       "      <td>2.0</td>\n",
       "      <td>NaN</td>\n",
       "      <td>NaN</td>\n",
       "    </tr>\n",
       "    <tr>\n",
       "      <th>1</th>\n",
       "      <td>1.0</td>\n",
       "      <td>True</td>\n",
       "      <td>01 22, 2011</td>\n",
       "      <td>A3RUOVKA1S5NYX</td>\n",
       "      <td>B00005MAMO</td>\n",
       "      <td>ksnod</td>\n",
       "      <td>They said it was in Good condition, thats what...</td>\n",
       "      <td>Peice of Crap</td>\n",
       "      <td>1295654400</td>\n",
       "      <td>NaN</td>\n",
       "      <td>NaN</td>\n",
       "      <td>NaN</td>\n",
       "    </tr>\n",
       "    <tr>\n",
       "      <th>2</th>\n",
       "      <td>1.0</td>\n",
       "      <td>False</td>\n",
       "      <td>11 26, 2010</td>\n",
       "      <td>A2UWYXQMVSPP0Z</td>\n",
       "      <td>B0012N746W</td>\n",
       "      <td>majorlynch</td>\n",
       "      <td>When I buy a game I want to be able to buy the...</td>\n",
       "      <td>NO DLC FOR PS3!!!</td>\n",
       "      <td>1290729600</td>\n",
       "      <td>5.0</td>\n",
       "      <td>{'Format:': ' Video Game'}</td>\n",
       "      <td>NaN</td>\n",
       "    </tr>\n",
       "    <tr>\n",
       "      <th>3</th>\n",
       "      <td>1.0</td>\n",
       "      <td>True</td>\n",
       "      <td>03 23, 2011</td>\n",
       "      <td>A2KZ5ABOP3EORT</td>\n",
       "      <td>B002BS47YE</td>\n",
       "      <td>Brent A. Feinberg</td>\n",
       "      <td>I was really looking forward to this game show...</td>\n",
       "      <td>Horrible port of an XBOX 360 game</td>\n",
       "      <td>1300838400</td>\n",
       "      <td>21.0</td>\n",
       "      <td>{'Format:': ' Video Game'}</td>\n",
       "      <td>NaN</td>\n",
       "    </tr>\n",
       "    <tr>\n",
       "      <th>4</th>\n",
       "      <td>1.0</td>\n",
       "      <td>False</td>\n",
       "      <td>11 15, 2016</td>\n",
       "      <td>A2IFUYQJJE09D</td>\n",
       "      <td>B01GKF824Y</td>\n",
       "      <td>TimetoRise</td>\n",
       "      <td>Terribly boring and quite honestly not very fu...</td>\n",
       "      <td>Boring and Repetitive</td>\n",
       "      <td>1479168000</td>\n",
       "      <td>5.0</td>\n",
       "      <td>{'Edition:': ' Standard', 'Platform:': ' Xbox ...</td>\n",
       "      <td>NaN</td>\n",
       "    </tr>\n",
       "  </tbody>\n",
       "</table>\n",
       "</div>"
      ],
      "text/plain": [
       "   overall  verified   reviewTime      reviewerID        asin  \\\n",
       "0      1.0     False   10 3, 2013  A10RFAF1CGFKHZ  B000CN750I   \n",
       "1      1.0      True  01 22, 2011  A3RUOVKA1S5NYX  B00005MAMO   \n",
       "2      1.0     False  11 26, 2010  A2UWYXQMVSPP0Z  B0012N746W   \n",
       "3      1.0      True  03 23, 2011  A2KZ5ABOP3EORT  B002BS47YE   \n",
       "4      1.0     False  11 15, 2016   A2IFUYQJJE09D  B01GKF824Y   \n",
       "\n",
       "        reviewerName                                         reviewText  \\\n",
       "0               J.C.  ...you're relying on it's preloaded cheat code...   \n",
       "1              ksnod  They said it was in Good condition, thats what...   \n",
       "2         majorlynch  When I buy a game I want to be able to buy the...   \n",
       "3  Brent A. Feinberg  I was really looking forward to this game show...   \n",
       "4         TimetoRise  Terribly boring and quite honestly not very fu...   \n",
       "\n",
       "                                             summary  unixReviewTime  vote  \\\n",
       "0  DO NOT buy this disk - A waste of money unless...      1380758400   2.0   \n",
       "1                                      Peice of Crap      1295654400   NaN   \n",
       "2                                  NO DLC FOR PS3!!!      1290729600   5.0   \n",
       "3                  Horrible port of an XBOX 360 game      1300838400  21.0   \n",
       "4                              Boring and Repetitive      1479168000   5.0   \n",
       "\n",
       "                                               style image  \n",
       "0                                                NaN   NaN  \n",
       "1                                                NaN   NaN  \n",
       "2                         {'Format:': ' Video Game'}   NaN  \n",
       "3                         {'Format:': ' Video Game'}   NaN  \n",
       "4  {'Edition:': ' Standard', 'Platform:': ' Xbox ...   NaN  "
      ]
     },
     "execution_count": 22,
     "metadata": {},
     "output_type": "execute_result"
    }
   ],
   "source": [
    "reviews.head()"
   ]
  },
  {
   "cell_type": "code",
   "execution_count": 23,
   "metadata": {},
   "outputs": [],
   "source": [
    "#TreeBankWord Tokenizer\n",
    "from nltk.tokenize import TreebankWordTokenizer\n",
    "from string import punctuation\n",
    "import string\n",
    "tb_tokenizer = TreebankWordTokenizer()"
   ]
  },
  {
   "cell_type": "code",
   "execution_count": 24,
   "metadata": {},
   "outputs": [],
   "source": [
    "reviews[\"rev_text_low\"] = reviews['reviewText'].apply(lambda rev: str(rev)\\\n",
    "                                                        .translate(str.maketrans('', '', punctuation))\\\n",
    "                                                        .replace(\"<br />\", \" \")\\\n",
    "                                                        .lower())"
   ]
  },
  {
   "cell_type": "code",
   "execution_count": 25,
   "metadata": {},
   "outputs": [
    {
     "data": {
      "text/html": [
       "<div>\n",
       "<style scoped>\n",
       "    .dataframe tbody tr th:only-of-type {\n",
       "        vertical-align: middle;\n",
       "    }\n",
       "\n",
       "    .dataframe tbody tr th {\n",
       "        vertical-align: top;\n",
       "    }\n",
       "\n",
       "    .dataframe thead th {\n",
       "        text-align: right;\n",
       "    }\n",
       "</style>\n",
       "<table border=\"1\" class=\"dataframe\">\n",
       "  <thead>\n",
       "    <tr style=\"text-align: right;\">\n",
       "      <th></th>\n",
       "      <th>reviewText</th>\n",
       "      <th>rev_text_low</th>\n",
       "    </tr>\n",
       "  </thead>\n",
       "  <tbody>\n",
       "    <tr>\n",
       "      <th>928</th>\n",
       "      <td>We downloaded and played this game after playi...</td>\n",
       "      <td>we downloaded and played this game after playi...</td>\n",
       "    </tr>\n",
       "    <tr>\n",
       "      <th>736</th>\n",
       "      <td>The D-Pads on these SUCK! They are completely ...</td>\n",
       "      <td>the dpads on these suck they are completely di...</td>\n",
       "    </tr>\n",
       "  </tbody>\n",
       "</table>\n",
       "</div>"
      ],
      "text/plain": [
       "                                            reviewText  \\\n",
       "928  We downloaded and played this game after playi...   \n",
       "736  The D-Pads on these SUCK! They are completely ...   \n",
       "\n",
       "                                          rev_text_low  \n",
       "928  we downloaded and played this game after playi...  \n",
       "736  the dpads on these suck they are completely di...  "
      ]
     },
     "execution_count": 25,
     "metadata": {},
     "output_type": "execute_result"
    }
   ],
   "source": [
    "reviews[['reviewText','rev_text_low']].sample(2)"
   ]
  },
  {
   "cell_type": "code",
   "execution_count": 27,
   "metadata": {},
   "outputs": [],
   "source": [
    "reviews[\"tb_tokens\"] = reviews['rev_text_low'].apply(lambda rev: tb_tokenizer.tokenize(str(rev)))"
   ]
  },
  {
   "cell_type": "code",
   "execution_count": 28,
   "metadata": {},
   "outputs": [],
   "source": [
    "pd.set_option('display.max_colwidth', None)"
   ]
  },
  {
   "cell_type": "code",
   "execution_count": 29,
   "metadata": {},
   "outputs": [
    {
     "data": {
      "text/html": [
       "<div>\n",
       "<style scoped>\n",
       "    .dataframe tbody tr th:only-of-type {\n",
       "        vertical-align: middle;\n",
       "    }\n",
       "\n",
       "    .dataframe tbody tr th {\n",
       "        vertical-align: top;\n",
       "    }\n",
       "\n",
       "    .dataframe thead th {\n",
       "        text-align: right;\n",
       "    }\n",
       "</style>\n",
       "<table border=\"1\" class=\"dataframe\">\n",
       "  <thead>\n",
       "    <tr style=\"text-align: right;\">\n",
       "      <th></th>\n",
       "      <th>reviewText</th>\n",
       "      <th>tb_tokens</th>\n",
       "    </tr>\n",
       "  </thead>\n",
       "  <tbody>\n",
       "    <tr>\n",
       "      <th>1341</th>\n",
       "      <td>Fanboy reviews aside, there is something seriously wrong with this game. Take this as a heads up, there have literally been 4 separate missions that glitch out and are incapable of completing due to npc's not reacting, my character sinking into the floor, and a quest giver not appearing, requiring you to restart your console. They claim there is a patch, but if you don't have a live account to download that day 1 patch, you can expect clipping issues, glitchy characters and objects separating into mid-air, broken mission objectives, and sync problems. It astounds me to no end that publishers think they can push this crap out with the expectation that they can simply fix it later.\\n\\nIn terms of the game, here are some facts, judge them as you will:\\n\\n- Some of the features that have been marketed are misleading- you can't actually \"free run\" through buildings. You look for an open window and he just goes through an animation and you're out the other side, losing pursuers. It is pretty much a fancy, slightly faster version of the hideouts from previous games\\n\\n-There are a LOT of cutscenes. Probably around a 1:1 minute per minute ratio in the first few hours. Expect a lot of talking, an order to ride a horse somewhere, more talking, go run over here, more talking, kill a deer, more talking, go run over there, kill that guy, repeat.\\n\\n- Combat is just about blow-for-blow arkham city's combat system. Two buttons do just about everything, so the entertainment comes from watching him do the moves. Combat is still set up so that everyone circles up around you and take turns getting murdered.\\n\\n- Naval warfare takes up a fair chunk of the game. In my opinion, it's totally awesome and probably the best part of the game (when your ship isn't literally sailing through the port, glitching out of the map)I checked the clock the moment I finally unlocked it. The first time I stepped foot on a ship that I controlled was 8 hours and 24 minutes into the game.\\n\\n-You don't play as a full assassin(white robes and gear) like the previous games until 6-7 hours into the game.\\n\\nI haven't tried multiplayer yet, our internet connection is still out from the storm. If you can't get the patch yet, don't play this game, a better version will probably be out in like a month(and a good black friday deal or something)</td>\n",
       "      <td>[fanboy, reviews, aside, there, is, something, seriously, wrong, with, this, game, take, this, as, a, heads, up, there, have, literally, been, 4, separate, missions, that, glitch, out, and, are, incapable, of, completing, due, to, npcs, not, reacting, my, character, sinking, into, the, floor, and, a, quest, giver, not, appearing, requiring, you, to, restart, your, console, they, claim, there, is, a, patch, but, if, you, dont, have, a, live, account, to, download, that, day, 1, patch, you, can, expect, clipping, issues, glitchy, characters, and, objects, separating, into, midair, broken, mission, objectives, and, sync, problems, it, astounds, me, to, no, end, that, ...]</td>\n",
       "    </tr>\n",
       "    <tr>\n",
       "      <th>3788</th>\n",
       "      <td>Rock the 80's. What else is there to say? 80's was the best time of ALOT of lives, including mine so it makes this game even MORE fun for me!</td>\n",
       "      <td>[rock, the, 80s, what, else, is, there, to, say, 80s, was, the, best, time, of, alot, of, lives, including, mine, so, it, makes, this, game, even, more, fun, for, me]</td>\n",
       "    </tr>\n",
       "    <tr>\n",
       "      <th>1161</th>\n",
       "      <td>Same **** different year,\\n\\nGame is a copy/paste of BO3. They also made Cod4 \"feel\" differently than it used to. Not a big fan of how the remaster turned out.</td>\n",
       "      <td>[same, different, year, game, is, a, copypaste, of, bo3, they, also, made, cod4, feel, differently, than, it, used, to, not, a, big, fan, of, how, the, remaster, turned, out]</td>\n",
       "    </tr>\n",
       "  </tbody>\n",
       "</table>\n",
       "</div>"
      ],
      "text/plain": [
       "                                                                                                                                                                                                                                                                                                                                                                                                                                                                                                                                                                                                                                                                                                                                                                                                                                                                                                                                                                                                                                                                                                                                                                                                                                                                                                                                                                                                                                                                                                                                                                                                                                                                                                                                                                                                                                                                                                                                                                                                                                                                                                                                                                                                                                                                                                                                                                                                                            reviewText  \\\n",
       "1341  Fanboy reviews aside, there is something seriously wrong with this game. Take this as a heads up, there have literally been 4 separate missions that glitch out and are incapable of completing due to npc's not reacting, my character sinking into the floor, and a quest giver not appearing, requiring you to restart your console. They claim there is a patch, but if you don't have a live account to download that day 1 patch, you can expect clipping issues, glitchy characters and objects separating into mid-air, broken mission objectives, and sync problems. It astounds me to no end that publishers think they can push this crap out with the expectation that they can simply fix it later.\\n\\nIn terms of the game, here are some facts, judge them as you will:\\n\\n- Some of the features that have been marketed are misleading- you can't actually \"free run\" through buildings. You look for an open window and he just goes through an animation and you're out the other side, losing pursuers. It is pretty much a fancy, slightly faster version of the hideouts from previous games\\n\\n-There are a LOT of cutscenes. Probably around a 1:1 minute per minute ratio in the first few hours. Expect a lot of talking, an order to ride a horse somewhere, more talking, go run over here, more talking, kill a deer, more talking, go run over there, kill that guy, repeat.\\n\\n- Combat is just about blow-for-blow arkham city's combat system. Two buttons do just about everything, so the entertainment comes from watching him do the moves. Combat is still set up so that everyone circles up around you and take turns getting murdered.\\n\\n- Naval warfare takes up a fair chunk of the game. In my opinion, it's totally awesome and probably the best part of the game (when your ship isn't literally sailing through the port, glitching out of the map)I checked the clock the moment I finally unlocked it. The first time I stepped foot on a ship that I controlled was 8 hours and 24 minutes into the game.\\n\\n-You don't play as a full assassin(white robes and gear) like the previous games until 6-7 hours into the game.\\n\\nI haven't tried multiplayer yet, our internet connection is still out from the storm. If you can't get the patch yet, don't play this game, a better version will probably be out in like a month(and a good black friday deal or something)   \n",
       "3788                                                                                                                                                                                                                                                                                                                                                                                                                                                                                                                                                                                                                                                                                                                                                                                                                                                                                                                                                                                                                                                                                                                                                                                                                                                                                                                                                                                                                                                                                                                                                                                                                                                                                                                                                                                                                                                                                                                                                                                                                                                                                                                                                                                                                                                                                     Rock the 80's. What else is there to say? 80's was the best time of ALOT of lives, including mine so it makes this game even MORE fun for me!   \n",
       "1161                                                                                                                                                                                                                                                                                                                                                                                                                                                                                                                                                                                                                                                                                                                                                                                                                                                                                                                                                                                                                                                                                                                                                                                                                                                                                                                                                                                                                                                                                                                                                                                                                                                                                                                                                                                                                                                                                                                                                                                                                                                                                                                                                                                                                                                                   Same **** different year,\\n\\nGame is a copy/paste of BO3. They also made Cod4 \"feel\" differently than it used to. Not a big fan of how the remaster turned out.   \n",
       "\n",
       "                                                                                                                                                                                                                                                                                                                                                                                                                                                                                                                                                                                                                                                                                                  tb_tokens  \n",
       "1341  [fanboy, reviews, aside, there, is, something, seriously, wrong, with, this, game, take, this, as, a, heads, up, there, have, literally, been, 4, separate, missions, that, glitch, out, and, are, incapable, of, completing, due, to, npcs, not, reacting, my, character, sinking, into, the, floor, and, a, quest, giver, not, appearing, requiring, you, to, restart, your, console, they, claim, there, is, a, patch, but, if, you, dont, have, a, live, account, to, download, that, day, 1, patch, you, can, expect, clipping, issues, glitchy, characters, and, objects, separating, into, midair, broken, mission, objectives, and, sync, problems, it, astounds, me, to, no, end, that, ...]  \n",
       "3788                                                                                                                                                                                                                                                                                                                                                                                                                                                                                                                                 [rock, the, 80s, what, else, is, there, to, say, 80s, was, the, best, time, of, alot, of, lives, including, mine, so, it, makes, this, game, even, more, fun, for, me]  \n",
       "1161                                                                                                                                                                                                                                                                                                                                                                                                                                                                                                                         [same, different, year, game, is, a, copypaste, of, bo3, they, also, made, cod4, feel, differently, than, it, used, to, not, a, big, fan, of, how, the, remaster, turned, out]  "
      ]
     },
     "execution_count": 29,
     "metadata": {},
     "output_type": "execute_result"
    }
   ],
   "source": [
    "reviews[['reviewText','tb_tokens']].sample(3)"
   ]
  },
  {
   "cell_type": "code",
   "execution_count": 30,
   "metadata": {},
   "outputs": [
    {
     "data": {
      "text/html": [
       "<div>\n",
       "<style scoped>\n",
       "    .dataframe tbody tr th:only-of-type {\n",
       "        vertical-align: middle;\n",
       "    }\n",
       "\n",
       "    .dataframe tbody tr th {\n",
       "        vertical-align: top;\n",
       "    }\n",
       "\n",
       "    .dataframe thead th {\n",
       "        text-align: right;\n",
       "    }\n",
       "</style>\n",
       "<table border=\"1\" class=\"dataframe\">\n",
       "  <thead>\n",
       "    <tr style=\"text-align: right;\">\n",
       "      <th></th>\n",
       "      <th>reviewText</th>\n",
       "      <th>casual_tokens</th>\n",
       "      <th>tb_tokens</th>\n",
       "    </tr>\n",
       "  </thead>\n",
       "  <tbody>\n",
       "    <tr>\n",
       "      <th>595</th>\n",
       "      <td>I can't say much that isn't already said on other reviews.  In short, I wasted my money on this one.  I loved the first one.  This one is going on Ebay.  And I just bought it yesterday.</td>\n",
       "      <td>[i, cant, say, much, that, isnt, already, said, on, other, reviews, in, short, i, wasted, my, money, on, this, one, i, loved, the, first, one, this, one, is, going, on, ebay, and, i, just, bought, it, yesterday]</td>\n",
       "      <td>[i, cant, say, much, that, isnt, already, said, on, other, reviews, in, short, i, wasted, my, money, on, this, one, i, loved, the, first, one, this, one, is, going, on, ebay, and, i, just, bought, it, yesterday]</td>\n",
       "    </tr>\n",
       "    <tr>\n",
       "      <th>3292</th>\n",
       "      <td>Great Game</td>\n",
       "      <td>[great, game]</td>\n",
       "      <td>[great, game]</td>\n",
       "    </tr>\n",
       "    <tr>\n",
       "      <th>3629</th>\n",
       "      <td>nice game.</td>\n",
       "      <td>[nice, game]</td>\n",
       "      <td>[nice, game]</td>\n",
       "    </tr>\n",
       "  </tbody>\n",
       "</table>\n",
       "</div>"
      ],
      "text/plain": [
       "                                                                                                                                                                                     reviewText  \\\n",
       "595   I can't say much that isn't already said on other reviews.  In short, I wasted my money on this one.  I loved the first one.  This one is going on Ebay.  And I just bought it yesterday.   \n",
       "3292                                                                                                                                                                                 Great Game   \n",
       "3629                                                                                                                                                                                 nice game.   \n",
       "\n",
       "                                                                                                                                                                                                            casual_tokens  \\\n",
       "595   [i, cant, say, much, that, isnt, already, said, on, other, reviews, in, short, i, wasted, my, money, on, this, one, i, loved, the, first, one, this, one, is, going, on, ebay, and, i, just, bought, it, yesterday]   \n",
       "3292                                                                                                                                                                                                        [great, game]   \n",
       "3629                                                                                                                                                                                                         [nice, game]   \n",
       "\n",
       "                                                                                                                                                                                                                tb_tokens  \n",
       "595   [i, cant, say, much, that, isnt, already, said, on, other, reviews, in, short, i, wasted, my, money, on, this, one, i, loved, the, first, one, this, one, is, going, on, ebay, and, i, just, bought, it, yesterday]  \n",
       "3292                                                                                                                                                                                                        [great, game]  \n",
       "3629                                                                                                                                                                                                         [nice, game]  "
      ]
     },
     "execution_count": 30,
     "metadata": {},
     "output_type": "execute_result"
    }
   ],
   "source": [
    "#Casual Tokenizer\n",
    "from nltk.tokenize.casual import casual_tokenize\n",
    "reviews['casual_tokens'] = reviews['rev_text_low'].apply(lambda rev: casual_tokenize(str(rev)))\n",
    "reviews[['reviewText','casual_tokens','tb_tokens']].sample(3)"
   ]
  },
  {
   "cell_type": "code",
   "execution_count": 33,
   "metadata": {},
   "outputs": [
    {
     "data": {
      "text/html": [
       "<div>\n",
       "<style scoped>\n",
       "    .dataframe tbody tr th:only-of-type {\n",
       "        vertical-align: middle;\n",
       "    }\n",
       "\n",
       "    .dataframe tbody tr th {\n",
       "        vertical-align: top;\n",
       "    }\n",
       "\n",
       "    .dataframe thead th {\n",
       "        text-align: right;\n",
       "    }\n",
       "</style>\n",
       "<table border=\"1\" class=\"dataframe\">\n",
       "  <thead>\n",
       "    <tr style=\"text-align: right;\">\n",
       "      <th></th>\n",
       "      <th>tb_tokens</th>\n",
       "      <th>tokens_stemmed</th>\n",
       "    </tr>\n",
       "  </thead>\n",
       "  <tbody>\n",
       "    <tr>\n",
       "      <th>2009</th>\n",
       "      <td>[loved, the, concept, of, it, the, hacking, and, such, however, the, missions, did, get, a, bit, repetitive, by, the, end, all, i, could, think, was, not, this, again, graphics, were, fine, not, great, game, play, was, pretty, good, again, a, bit, repetitive, cars, handled, likewellnot, cars, character, interactions, could, have, been, much, more, robust, i, finished, the, main, missions, but, it, doesnt, hold, my, interest, enough, to, do, all, the, side, missions, and, such, so, ill, never, bring, down, the, human, trafficking, ring, and, whatever, else, you, can, bring, down, hopefully, the, next, version, assuming, there, is, one, will, expand, ...]</td>\n",
       "      <td>[love, the, concept, of, it, the, hack, and, such, howev, the, mission, did, get, a, bit, repetit, by, the, end, all, i, could, think, wa, not, thi, again, graphic, were, fine, not, great, game, play, wa, pretti, good, again, a, bit, repetit, car, handl, likewellnot, car, charact, interact, could, have, been, much, more, robust, i, finish, the, main, mission, but, it, doesnt, hold, my, interest, enough, to, do, all, the, side, mission, and, such, so, ill, never, bring, down, the, human, traffick, ring, and, whatev, els, you, can, bring, down, hope, the, next, version, assum, there, is, one, will, expand, ...]</td>\n",
       "    </tr>\n",
       "    <tr>\n",
       "      <th>3802</th>\n",
       "      <td>[very, fun, and, a, great, game]</td>\n",
       "      <td>[veri, fun, and, a, great, game]</td>\n",
       "    </tr>\n",
       "    <tr>\n",
       "      <th>505</th>\n",
       "      <td>[infinity, ward, has, found, a, way, to, make, this, game, worse, than, advanced, warfare, the, only, good, thing, about, this, game, is, that, it, comes, with, mw, remastered, and, even, that, is, missing, modes, and, maps, i, guess, activision, is, expecting, there, fanbase, to, rebuy, the, remastered, map, packs, waste, of, money]</td>\n",
       "      <td>[infin, ward, ha, found, a, way, to, make, thi, game, wors, than, advanc, warfar, the, onli, good, thing, about, thi, game, is, that, it, come, with, mw, remast, and, even, that, is, miss, mode, and, map, i, guess, activis, is, expect, there, fanbas, to, rebuy, the, remast, map, pack, wast, of, money]</td>\n",
       "    </tr>\n",
       "  </tbody>\n",
       "</table>\n",
       "</div>"
      ],
      "text/plain": [
       "                                                                                                                                                                                                                                                                                                                                                                                                                                                                                                                                                                                                                                                                                  tb_tokens  \\\n",
       "2009  [loved, the, concept, of, it, the, hacking, and, such, however, the, missions, did, get, a, bit, repetitive, by, the, end, all, i, could, think, was, not, this, again, graphics, were, fine, not, great, game, play, was, pretty, good, again, a, bit, repetitive, cars, handled, likewellnot, cars, character, interactions, could, have, been, much, more, robust, i, finished, the, main, missions, but, it, doesnt, hold, my, interest, enough, to, do, all, the, side, missions, and, such, so, ill, never, bring, down, the, human, trafficking, ring, and, whatever, else, you, can, bring, down, hopefully, the, next, version, assuming, there, is, one, will, expand, ...]   \n",
       "3802                                                                                                                                                                                                                                                                                                                                                                                                                                                                                                                                                                                                                                                       [very, fun, and, a, great, game]   \n",
       "505                                                                                                                                                                                                                                                                                                                                         [infinity, ward, has, found, a, way, to, make, this, game, worse, than, advanced, warfare, the, only, good, thing, about, this, game, is, that, it, comes, with, mw, remastered, and, even, that, is, missing, modes, and, maps, i, guess, activision, is, expecting, there, fanbase, to, rebuy, the, remastered, map, packs, waste, of, money]   \n",
       "\n",
       "                                                                                                                                                                                                                                                                                                                                                                                                                                                                                                                                                                                                                                tokens_stemmed  \n",
       "2009  [love, the, concept, of, it, the, hack, and, such, howev, the, mission, did, get, a, bit, repetit, by, the, end, all, i, could, think, wa, not, thi, again, graphic, were, fine, not, great, game, play, wa, pretti, good, again, a, bit, repetit, car, handl, likewellnot, car, charact, interact, could, have, been, much, more, robust, i, finish, the, main, mission, but, it, doesnt, hold, my, interest, enough, to, do, all, the, side, mission, and, such, so, ill, never, bring, down, the, human, traffick, ring, and, whatev, els, you, can, bring, down, hope, the, next, version, assum, there, is, one, will, expand, ...]  \n",
       "3802                                                                                                                                                                                                                                                                                                                                                                                                                                                                                                                                                                                                          [veri, fun, and, a, great, game]  \n",
       "505                                                                                                                                                                                                                                                                                                                             [infin, ward, ha, found, a, way, to, make, thi, game, wors, than, advanc, warfar, the, onli, good, thing, about, thi, game, is, that, it, come, with, mw, remast, and, even, that, is, miss, mode, and, map, i, guess, activis, is, expect, there, fanbas, to, rebuy, the, remast, map, pack, wast, of, money]  "
      ]
     },
     "execution_count": 33,
     "metadata": {},
     "output_type": "execute_result"
    }
   ],
   "source": [
    "#Stemming\n",
    "from nltk.stem.porter import PorterStemmer\n",
    "stemmer = PorterStemmer()\n",
    "reviews['tokens_stemmed'] = reviews['tb_tokens'].apply(lambda words: [stemmer.stem(w) for w in words])\n",
    "reviews[['tb_tokens','tokens_stemmed']].sample(3)"
   ]
  },
  {
   "cell_type": "code",
   "execution_count": 34,
   "metadata": {},
   "outputs": [],
   "source": [
    "#Lemmatisation\n",
    "from nltk.stem import WordNetLemmatizer\n",
    "from nltk.corpus import wordnet as wn\n",
    "from nltk.corpus import sentiwordnet as swn\n",
    "from nltk import sent_tokenize, word_tokenize, pos_tag"
   ]
  },
  {
   "cell_type": "code",
   "execution_count": 35,
   "metadata": {},
   "outputs": [],
   "source": [
    "def penn_to_wn(tag):\n",
    "    \"\"\"\n",
    "        Convert between the PennTreebank tags to simple Wordnet tags\n",
    "    \"\"\"\n",
    "    if tag.startswith('J'):\n",
    "        return wn.ADJ\n",
    "    elif tag.startswith('N'):\n",
    "        return wn.NOUN\n",
    "    elif tag.startswith('R'):\n",
    "        return wn.ADV\n",
    "    elif tag.startswith('V'):\n",
    "        return wn.VERB\n",
    "    return None"
   ]
  },
  {
   "cell_type": "code",
   "execution_count": 36,
   "metadata": {},
   "outputs": [],
   "source": [
    "lemmatizer = WordNetLemmatizer()\n",
    "def get_lemas(tokens):\n",
    "    lemmas = []\n",
    "    for token in tokens:\n",
    "        pos = penn_to_wn(pos_tag([token])[0][1])\n",
    "        if pos:\n",
    "            lemma = lemmatizer.lemmatize(token, pos)\n",
    "            if lemma:\n",
    "                lemmas.append(lemma)\n",
    "    return lemmas"
   ]
  },
  {
   "cell_type": "code",
   "execution_count": 37,
   "metadata": {},
   "outputs": [
    {
     "name": "stderr",
     "output_type": "stream",
     "text": [
      "[nltk_data] Downloading package averaged_perceptron_tagger to\n",
      "[nltk_data]     C:\\Users\\16692\\AppData\\Roaming\\nltk_data...\n",
      "[nltk_data]   Package averaged_perceptron_tagger is already up-to-\n",
      "[nltk_data]       date!\n",
      "[nltk_data] Downloading package wordnet to\n",
      "[nltk_data]     C:\\Users\\16692\\AppData\\Roaming\\nltk_data...\n",
      "[nltk_data]   Package wordnet is already up-to-date!\n",
      "[nltk_data] Downloading package omw-1.4 to\n",
      "[nltk_data]     C:\\Users\\16692\\AppData\\Roaming\\nltk_data...\n",
      "[nltk_data]   Package omw-1.4 is already up-to-date!\n"
     ]
    },
    {
     "data": {
      "text/plain": [
       "True"
      ]
     },
     "execution_count": 37,
     "metadata": {},
     "output_type": "execute_result"
    }
   ],
   "source": [
    "nltk.download('averaged_perceptron_tagger')\n",
    "nltk.download('wordnet')\n",
    "nltk.download('omw-1.4')"
   ]
  },
  {
   "cell_type": "code",
   "execution_count": 39,
   "metadata": {},
   "outputs": [],
   "source": [
    "reviews['lemmas'] = reviews['tb_tokens'].apply(lambda tokens: get_lemas(tokens))"
   ]
  },
  {
   "cell_type": "code",
   "execution_count": 40,
   "metadata": {},
   "outputs": [
    {
     "data": {
      "text/html": [
       "<div>\n",
       "<style scoped>\n",
       "    .dataframe tbody tr th:only-of-type {\n",
       "        vertical-align: middle;\n",
       "    }\n",
       "\n",
       "    .dataframe tbody tr th {\n",
       "        vertical-align: top;\n",
       "    }\n",
       "\n",
       "    .dataframe thead th {\n",
       "        text-align: right;\n",
       "    }\n",
       "</style>\n",
       "<table border=\"1\" class=\"dataframe\">\n",
       "  <thead>\n",
       "    <tr style=\"text-align: right;\">\n",
       "      <th></th>\n",
       "      <th>reviewText</th>\n",
       "      <th>tokens_stemmed</th>\n",
       "      <th>lemmas</th>\n",
       "    </tr>\n",
       "  </thead>\n",
       "  <tbody>\n",
       "    <tr>\n",
       "      <th>1822</th>\n",
       "      <td>Civ III is much anticipated and I would say quite disapointing.  Civ II had a number of unballanced aspects (howitzers that won ever engagement and railroads that allowed instant transport to name a few).  However, it was a good simulation of cultural development.  Civ III lacks many of the key technological improvements of Civ II (no rail so you always use the same roads that you built in 3000 BC and no improvments in agriculture) that makes the game less fun.  They should have made the game more ballanced but still kept the flow of history that made it great before.</td>\n",
       "      <td>[civ, iii, is, much, anticip, and, i, would, say, quit, disapoint, civ, ii, had, a, number, of, unballanc, aspect, howitz, that, won, ever, engag, and, railroad, that, allow, instant, transport, to, name, a, few, howev, it, wa, a, good, simul, of, cultur, develop, civ, iii, lack, mani, of, the, key, technolog, improv, of, civ, ii, no, rail, so, you, alway, use, the, same, road, that, you, built, in, 3000, bc, and, no, improv, in, agricultur, that, make, the, game, less, fun, they, should, have, made, the, game, more, ballanc, but, still, kept, the, flow, of, histori, that, made, it, great, ...]</td>\n",
       "      <td>[civ, iii, be, much, anticipate, i, say, quite, disapointing, civ, ii, have, number, unballanced, aspect, howitzer, won, ever, engagement, railroad, allow, instant, transport, name, few, however, be, good, simulation, cultural, development, civ, iii, lack, many, key, technological, improvement, civ, ii, rail, so, always, use, same, road, built, bc, improvments, agriculture, make, game, less, fun, have, make, game, more, ballanced, still, kept, flow, history, make, great]</td>\n",
       "    </tr>\n",
       "    <tr>\n",
       "      <th>1548</th>\n",
       "      <td>This game has virtually nothing going for it. In my frank opinion, this filler title would have bankrupted a smaller game developer. The guns are horribly nerfed (no suprise there). The first person animations are either jerky, or seem to be absent. Enemy AI is not bad, except that, yet again, fear is not a factor. There are multiple levels where ou have a flame thrower, and maybe I'm just odd, but if someone is charging at me with a flame thrower, my priorities will change. Speaking of enemies about 90% of them are OBVIOUSLY infinitly spawned. The levels are fraught with 10' hallways with unopenable doors that 100+ armed men pour out of.\\n\\nMy play style is DSM (dedicated squad marksmen), that means I snipe at 100-300M, and move up when clear. Unfortunatly, the enemies only stop spawning when your in the aforementioned hallway. Add to this that the 30-06 M1 Garand (2800-3000 ft lbs impact) takes atleast 3 rounds to kill, assuming you can hit anything. To be fair, when I sight in a weapon, I like the target to be on top of the iron sights, they put the target behind the front blade. Because of this I shoot alot of window sills.\\n\\nTo call your allies roadblocks would imply the stop the enemy too. They dont. They stop you from being able to move. I have on more than one occasion had to jump to a checkpoint because an ally decided to take cover next to me, thus trapping me in a corner. It seems the only function they serve is to occupy any available cover, thus throwing you under the bus, and to yell supid expressins. Further more, the only true objective to this game seems to be not getting pidgeon-holed. The grunts from Halo threw less grenades, and somehow a solder who is on enough drugs to shrug off a BAR ban land a grenade in a pie dish from 60 yards away. 10+ times per level, I will be prone behind a box/bench, bush, etc and a grenae will land so close I can throw it back without moving. Also, this same enemy AI can make a headsho, while running, through smoke and bushes from 50 Yds, but your allies can't hit a guy taking a casual stroll six feet from them.\\n\\nThe only moments in the game I truly enjoy are watching the AI Bonsai chargers beat the crap out of the immortal squad AIs. This can go on for up to a minut, and is very satisfying to see SGT. Roebuck in such pain. As for historical accuracy, the historical footage in the loading sequences seems to be purely or shock value, offering no insight into the mission, or meaningful information about the sitiuation. In addition all of the missions seem to be in fast forward, as 500+ Japanese/German troops are occupying a 4 acre island compound/city block.\\n\\nOn to the good. The third person animations are good, and the enimies will occasionally, although obviosly scripted in advance, move things to make cover. The weapon variety is not bad, all the classics are there, with some new additions. Being a late war game, the shelled out theme is obvious, and expected. As usual for the WWII COD series, you get to drive a tank, and shoot out of an airplane. It wasn't fun the first time, it isn't fun now. That being said, the game is complete, and dosen't have any major bugs (clipping, missed animations, sound gaps, etc), just really stupid allies. The marines in Halo were more useful, atleast the got out of the way, and carried ammo for you.\\n\\nAll together, this is not worth a buy, unless you have never played a shooter before, and have no expectations.\\n\\nI am presently in my final semester for my game design degree, and this is my 20 somethingth shooter including COD 1 and 2, ETQW, all 3 MWs, the Mass Effect trilogy (RPG yes, but lots of shooting), 2 Halos, MOH pacific assault (slightly better then WAW actually), and a small assortment of online shooters (Combat arms, etc). The nicest thing I can say about World at War is that it's like Chrome Hounds. Could have been a great game had Mech Warrior never came out.</td>\n",
       "      <td>[thi, game, ha, virtual, noth, go, for, it, in, my, frank, opinion, thi, filler, titl, would, have, bankrupt, a, smaller, game, develop, the, gun, are, horribl, nerf, no, supris, there, the, first, person, anim, are, either, jerki, or, seem, to, be, absent, enemi, ai, is, not, bad, except, that, yet, again, fear, is, not, a, factor, there, are, multipl, level, where, ou, have, a, flame, thrower, and, mayb, im, just, odd, but, if, someon, is, charg, at, me, with, a, flame, thrower, my, prioriti, will, chang, speak, of, enemi, about, 90, of, them, are, obvious, infinitli, spawn, the, level, are, ...]</td>\n",
       "      <td>[game, have, virtually, nothing, go, frank, opinion, filler, title, have, bankrupt, small, game, developer, gun, be, horribly, nerfed, suprise, there, first, person, animation, be, jerky, seem, be, absent, enemy, ai, be, not, bad, yet, again, fear, be, not, factor, there, be, multiple, level, ou, have, flame, thrower, maybe, im, just, odd, someone, be, charge, flame, thrower, priority, change, speak, enemy, be, obviously, infinitly, spawn, level, be, fraught, hallway, unopenable, door, arm, men, pour, play, style, be, dsm, dedicate, squad, marksman, mean, i, snipe, move, up, clear, unfortunatly, enemy, only, stop, spawn, aforementioned, hallway, add, m1, garand, ft, lb, impact, take, ...]</td>\n",
       "    </tr>\n",
       "  </tbody>\n",
       "</table>\n",
       "</div>"
      ],
      "text/plain": [
       "                                                                                                                                                                                                                                                                                                                                                                                                                                                                                                                                                                                                                                                                                                                                                                                                                                                                                                                                                                                                                                                                                                                                                                                                                                                                                                                                                                                                                                                                                                                                                                                                                                                                                                                                                                                                                                                                                                                                                                                                                                                                                                                                                                                                                                                                                                                                                                                                                                                                                                                                                                                                                                                                                                                                                                                                                                                                                                                                                                                                                                                                                                                                                                                                                                                                                                                                                                                                                                                                                                                                                                                                                                                                                                                                                                                                                                                                                                                                                                                                                                                                                       reviewText  \\\n",
       "1822                                                                                                                                                                                                                                                                                                                                                                                                                                                                                                                                                                                                                                                                                                                                                                                                                                                                                                                                                                                                                                                                                                                                                                                                                                                                                                                                                                                                                                                                                                                                                                                                                                                                                                                                                                                                                                                                                                                                                                                                                                                                                                                                                                                                                                                                                                                                                                                                                                                                                                                                                                                                                                                                                                                                                                                                                                                                                                                                                                                                                                                                                                                                                                                                                                                                                                                                                                                                                                                                                               Civ III is much anticipated and I would say quite disapointing.  Civ II had a number of unballanced aspects (howitzers that won ever engagement and railroads that allowed instant transport to name a few).  However, it was a good simulation of cultural development.  Civ III lacks many of the key technological improvements of Civ II (no rail so you always use the same roads that you built in 3000 BC and no improvments in agriculture) that makes the game less fun.  They should have made the game more ballanced but still kept the flow of history that made it great before.   \n",
       "1548  This game has virtually nothing going for it. In my frank opinion, this filler title would have bankrupted a smaller game developer. The guns are horribly nerfed (no suprise there). The first person animations are either jerky, or seem to be absent. Enemy AI is not bad, except that, yet again, fear is not a factor. There are multiple levels where ou have a flame thrower, and maybe I'm just odd, but if someone is charging at me with a flame thrower, my priorities will change. Speaking of enemies about 90% of them are OBVIOUSLY infinitly spawned. The levels are fraught with 10' hallways with unopenable doors that 100+ armed men pour out of.\\n\\nMy play style is DSM (dedicated squad marksmen), that means I snipe at 100-300M, and move up when clear. Unfortunatly, the enemies only stop spawning when your in the aforementioned hallway. Add to this that the 30-06 M1 Garand (2800-3000 ft lbs impact) takes atleast 3 rounds to kill, assuming you can hit anything. To be fair, when I sight in a weapon, I like the target to be on top of the iron sights, they put the target behind the front blade. Because of this I shoot alot of window sills.\\n\\nTo call your allies roadblocks would imply the stop the enemy too. They dont. They stop you from being able to move. I have on more than one occasion had to jump to a checkpoint because an ally decided to take cover next to me, thus trapping me in a corner. It seems the only function they serve is to occupy any available cover, thus throwing you under the bus, and to yell supid expressins. Further more, the only true objective to this game seems to be not getting pidgeon-holed. The grunts from Halo threw less grenades, and somehow a solder who is on enough drugs to shrug off a BAR ban land a grenade in a pie dish from 60 yards away. 10+ times per level, I will be prone behind a box/bench, bush, etc and a grenae will land so close I can throw it back without moving. Also, this same enemy AI can make a headsho, while running, through smoke and bushes from 50 Yds, but your allies can't hit a guy taking a casual stroll six feet from them.\\n\\nThe only moments in the game I truly enjoy are watching the AI Bonsai chargers beat the crap out of the immortal squad AIs. This can go on for up to a minut, and is very satisfying to see SGT. Roebuck in such pain. As for historical accuracy, the historical footage in the loading sequences seems to be purely or shock value, offering no insight into the mission, or meaningful information about the sitiuation. In addition all of the missions seem to be in fast forward, as 500+ Japanese/German troops are occupying a 4 acre island compound/city block.\\n\\nOn to the good. The third person animations are good, and the enimies will occasionally, although obviosly scripted in advance, move things to make cover. The weapon variety is not bad, all the classics are there, with some new additions. Being a late war game, the shelled out theme is obvious, and expected. As usual for the WWII COD series, you get to drive a tank, and shoot out of an airplane. It wasn't fun the first time, it isn't fun now. That being said, the game is complete, and dosen't have any major bugs (clipping, missed animations, sound gaps, etc), just really stupid allies. The marines in Halo were more useful, atleast the got out of the way, and carried ammo for you.\\n\\nAll together, this is not worth a buy, unless you have never played a shooter before, and have no expectations.\\n\\nI am presently in my final semester for my game design degree, and this is my 20 somethingth shooter including COD 1 and 2, ETQW, all 3 MWs, the Mass Effect trilogy (RPG yes, but lots of shooting), 2 Halos, MOH pacific assault (slightly better then WAW actually), and a small assortment of online shooters (Combat arms, etc). The nicest thing I can say about World at War is that it's like Chrome Hounds. Could have been a great game had Mech Warrior never came out.   \n",
       "\n",
       "                                                                                                                                                                                                                                                                                                                                                                                                                                                                                                                                                                                                                     tokens_stemmed  \\\n",
       "1822      [civ, iii, is, much, anticip, and, i, would, say, quit, disapoint, civ, ii, had, a, number, of, unballanc, aspect, howitz, that, won, ever, engag, and, railroad, that, allow, instant, transport, to, name, a, few, howev, it, wa, a, good, simul, of, cultur, develop, civ, iii, lack, mani, of, the, key, technolog, improv, of, civ, ii, no, rail, so, you, alway, use, the, same, road, that, you, built, in, 3000, bc, and, no, improv, in, agricultur, that, make, the, game, less, fun, they, should, have, made, the, game, more, ballanc, but, still, kept, the, flow, of, histori, that, made, it, great, ...]   \n",
       "1548  [thi, game, ha, virtual, noth, go, for, it, in, my, frank, opinion, thi, filler, titl, would, have, bankrupt, a, smaller, game, develop, the, gun, are, horribl, nerf, no, supris, there, the, first, person, anim, are, either, jerki, or, seem, to, be, absent, enemi, ai, is, not, bad, except, that, yet, again, fear, is, not, a, factor, there, are, multipl, level, where, ou, have, a, flame, thrower, and, mayb, im, just, odd, but, if, someon, is, charg, at, me, with, a, flame, thrower, my, prioriti, will, chang, speak, of, enemi, about, 90, of, them, are, obvious, infinitli, spawn, the, level, are, ...]   \n",
       "\n",
       "                                                                                                                                                                                                                                                                                                                                                                                                                                                                                                                                                                                                                                                                                                                         lemmas  \n",
       "1822                                                                                                                                                                                                                                [civ, iii, be, much, anticipate, i, say, quite, disapointing, civ, ii, have, number, unballanced, aspect, howitzer, won, ever, engagement, railroad, allow, instant, transport, name, few, however, be, good, simulation, cultural, development, civ, iii, lack, many, key, technological, improvement, civ, ii, rail, so, always, use, same, road, built, bc, improvments, agriculture, make, game, less, fun, have, make, game, more, ballanced, still, kept, flow, history, make, great]  \n",
       "1548  [game, have, virtually, nothing, go, frank, opinion, filler, title, have, bankrupt, small, game, developer, gun, be, horribly, nerfed, suprise, there, first, person, animation, be, jerky, seem, be, absent, enemy, ai, be, not, bad, yet, again, fear, be, not, factor, there, be, multiple, level, ou, have, flame, thrower, maybe, im, just, odd, someone, be, charge, flame, thrower, priority, change, speak, enemy, be, obviously, infinitly, spawn, level, be, fraught, hallway, unopenable, door, arm, men, pour, play, style, be, dsm, dedicate, squad, marksman, mean, i, snipe, move, up, clear, unfortunatly, enemy, only, stop, spawn, aforementioned, hallway, add, m1, garand, ft, lb, impact, take, ...]  "
      ]
     },
     "execution_count": 40,
     "metadata": {},
     "output_type": "execute_result"
    }
   ],
   "source": [
    "reviews[['reviewText','tokens_stemmed','lemmas']].sample(2)"
   ]
  },
  {
   "cell_type": "code",
   "execution_count": 41,
   "metadata": {},
   "outputs": [],
   "source": [
    "#Sentiment Analysis Model\n",
    "def get_sentiment_score(tokens):\n",
    "    score = 0\n",
    "    tags = pos_tag(tokens)\n",
    "    for word, tag in tags:\n",
    "        wn_tag = penn_to_wn(tag)\n",
    "        if not wn_tag:\n",
    "            continue\n",
    "        synsets = wn.synsets(word, pos=wn_tag)\n",
    "        if not synsets:\n",
    "            continue\n",
    "        \n",
    "        #most common set:\n",
    "        synset = synsets[0]\n",
    "        swn_synset = swn.senti_synset(synset.name())\n",
    "        \n",
    "        score += (swn_synset.pos_score() - swn_synset.neg_score())\n",
    "        \n",
    "    return score"
   ]
  },
  {
   "cell_type": "code",
   "execution_count": 42,
   "metadata": {},
   "outputs": [
    {
     "name": "stderr",
     "output_type": "stream",
     "text": [
      "[nltk_data] Downloading package sentiwordnet to\n",
      "[nltk_data]     C:\\Users\\16692\\AppData\\Roaming\\nltk_data...\n",
      "[nltk_data]   Package sentiwordnet is already up-to-date!\n"
     ]
    },
    {
     "data": {
      "text/plain": [
       "True"
      ]
     },
     "execution_count": 42,
     "metadata": {},
     "output_type": "execute_result"
    }
   ],
   "source": [
    "nltk.download('sentiwordnet')"
   ]
  },
  {
   "cell_type": "code",
   "execution_count": 43,
   "metadata": {},
   "outputs": [
    {
     "data": {
      "text/plain": [
       "0.625"
      ]
     },
     "execution_count": 43,
     "metadata": {},
     "output_type": "execute_result"
    }
   ],
   "source": [
    "## test\n",
    "swn.senti_synset(wn.synsets(\"perfect\", wn.ADJ)[0].name()).pos_score()"
   ]
  },
  {
   "cell_type": "code",
   "execution_count": 44,
   "metadata": {},
   "outputs": [],
   "source": [
    "reviews['sentiment_score'] = reviews['lemmas'].apply(lambda tokens: get_sentiment_score(tokens))"
   ]
  },
  {
   "cell_type": "code",
   "execution_count": 99,
   "metadata": {},
   "outputs": [
    {
     "data": {
      "text/html": [
       "<div>\n",
       "<style scoped>\n",
       "    .dataframe tbody tr th:only-of-type {\n",
       "        vertical-align: middle;\n",
       "    }\n",
       "\n",
       "    .dataframe tbody tr th {\n",
       "        vertical-align: top;\n",
       "    }\n",
       "\n",
       "    .dataframe thead th {\n",
       "        text-align: right;\n",
       "    }\n",
       "</style>\n",
       "<table border=\"1\" class=\"dataframe\">\n",
       "  <thead>\n",
       "    <tr style=\"text-align: right;\">\n",
       "      <th></th>\n",
       "      <th>reviewText</th>\n",
       "      <th>lemmas</th>\n",
       "      <th>sentiment_score</th>\n",
       "    </tr>\n",
       "  </thead>\n",
       "  <tbody>\n",
       "    <tr>\n",
       "      <th>3334</th>\n",
       "      <td>Wicked game dawgs. To bad it aint split screen local multiplayer.</td>\n",
       "      <td>[wicked, game, dawgs, bad, aint, split, screen, local, multiplayer]</td>\n",
       "      <td>-1.000</td>\n",
       "    </tr>\n",
       "    <tr>\n",
       "      <th>3149</th>\n",
       "      <td>I already have 100 hours of game play  and strongly recommend this game to people who have interested in fps and exploring.</td>\n",
       "      <td>[i, already, have, hour, game, play, strongly, recommend, game, people, have, interested, fps, explore]</td>\n",
       "      <td>1.375</td>\n",
       "    </tr>\n",
       "    <tr>\n",
       "      <th>4112</th>\n",
       "      <td>Is Metroid the saga is awesome and the look is great... when you see it you're gonna think is HD... is awesome, buy it if you can, very fun game!! love it...!!</td>\n",
       "      <td>[be, metroid, saga, be, awesome, look, be, great, see, youre, gon, na, think, be, hd, be, awesome, buy, very, fun, game, love]</td>\n",
       "      <td>2.750</td>\n",
       "    </tr>\n",
       "    <tr>\n",
       "      <th>3464</th>\n",
       "      <td>Buen producto</td>\n",
       "      <td>[buen, producto]</td>\n",
       "      <td>0.000</td>\n",
       "    </tr>\n",
       "    <tr>\n",
       "      <th>3475</th>\n",
       "      <td>Definitely worth a replay.  Graphic update look amazing!  Still ran across a few bugs from last generation, but nothing I would consider a deal breaker.</td>\n",
       "      <td>[definitely, worth, replay, graphic, update, look, amaze, still, ran, few, bug, last, generation, nothing, i, consider, deal, breaker]</td>\n",
       "      <td>0.000</td>\n",
       "    </tr>\n",
       "  </tbody>\n",
       "</table>\n",
       "</div>"
      ],
      "text/plain": [
       "                                                                                                                                                           reviewText  \\\n",
       "3334                                                                                                Wicked game dawgs. To bad it aint split screen local multiplayer.   \n",
       "3149                                      I already have 100 hours of game play  and strongly recommend this game to people who have interested in fps and exploring.   \n",
       "4112  Is Metroid the saga is awesome and the look is great... when you see it you're gonna think is HD... is awesome, buy it if you can, very fun game!! love it...!!   \n",
       "3464                                                                                                                                                    Buen producto   \n",
       "3475         Definitely worth a replay.  Graphic update look amazing!  Still ran across a few bugs from last generation, but nothing I would consider a deal breaker.   \n",
       "\n",
       "                                                                                                                                      lemmas  \\\n",
       "3334                                                                     [wicked, game, dawgs, bad, aint, split, screen, local, multiplayer]   \n",
       "3149                                 [i, already, have, hour, game, play, strongly, recommend, game, people, have, interested, fps, explore]   \n",
       "4112          [be, metroid, saga, be, awesome, look, be, great, see, youre, gon, na, think, be, hd, be, awesome, buy, very, fun, game, love]   \n",
       "3464                                                                                                                        [buen, producto]   \n",
       "3475  [definitely, worth, replay, graphic, update, look, amaze, still, ran, few, bug, last, generation, nothing, i, consider, deal, breaker]   \n",
       "\n",
       "      sentiment_score  \n",
       "3334           -1.000  \n",
       "3149            1.375  \n",
       "4112            2.750  \n",
       "3464            0.000  \n",
       "3475            0.000  "
      ]
     },
     "execution_count": 99,
     "metadata": {},
     "output_type": "execute_result"
    }
   ],
   "source": [
    "reviews[['reviewText','lemmas','sentiment_score']].sample(5)"
   ]
  },
  {
   "cell_type": "code",
   "execution_count": 45,
   "metadata": {},
   "outputs": [
    {
     "data": {
      "text/html": [
       "<div>\n",
       "<style scoped>\n",
       "    .dataframe tbody tr th:only-of-type {\n",
       "        vertical-align: middle;\n",
       "    }\n",
       "\n",
       "    .dataframe tbody tr th {\n",
       "        vertical-align: top;\n",
       "    }\n",
       "\n",
       "    .dataframe thead th {\n",
       "        text-align: right;\n",
       "    }\n",
       "</style>\n",
       "<table border=\"1\" class=\"dataframe\">\n",
       "  <thead>\n",
       "    <tr style=\"text-align: right;\">\n",
       "      <th></th>\n",
       "      <th>reviewText</th>\n",
       "      <th>lemmas</th>\n",
       "      <th>sentiment_score</th>\n",
       "    </tr>\n",
       "  </thead>\n",
       "  <tbody>\n",
       "    <tr>\n",
       "      <th>4075</th>\n",
       "      <td>Within minutes of beginning Half-Life 2, it dawned upon me that much like its predecessor, \"Half-Life,\" the game is truly revolutionary, not only for its astounding graphics engine but for its truly cinematic scope.\\n\\nThe plot is engaging and immensely beguiling. In Half-Life 1, the theoretical physicist Gordon Freeman, under the orders of his superiors, activated an interdimensional rift at the Black Mesa research facility situated in the desert. From the depths of the rift entered a race of aliens known as the Nihilant, which proceeded to lay waste to the facility and threaten humanity. Freeman entered through the rift and succeeded in destroying the homeworld from which the aliens originated. However, upon arrival at the Black Mesa Research Facility, the military engaged in a vicious cover-up involving the extermination of all survivors. In Half-Life 2, Gordon Freeman, having returned to Earth from the homeworld of the Nihilant, discovers City 17, an Orwellian nightmare in which the citizens have been completely subjugated by an authoritarian regime known as the Combine. Exacerbating the problem, the aliens released from Black Mesa now run amok in City 17. Fans of the original Half-Life will be pleased to learn that the characters Barry Calhoun and Dr Kleiner return from the original game and are leaders of a small band of resistance against the dictatorial regime.\\n\\nHighly detailed and with the most impressive physics engine I have ever seen in a game, Valve has created an environment in which gravity plays a pivotal and incredibly important role. Examples of this include stacking boxes to climb over a fence or through a window or floating barrels to raise a platform. The vast cityscapes and highly detailed facial features of the main characters are of a level never seen before. Unlike any other game presently, the features of the characters are truly lifelike, with visible wrinkles, expressions and pores. Other than the mesmeric and plentiful eye candy, the captivating plot engages successfully with the gamer, and I found the experience exceedingly satisfying. The musical score is excellent and seamlessly changes from that befitting a brooding atmosphere to a sequence of first person shooter action. It augments the gameplay well, though there are times where the score could use more variation.\\n\\nIt is, however, in the area of gameplay that Half-Life 2 truly excels. While Gordon Freeman is never seen and never speaks, this hardly detracts from the experience. Effortlessly shifting from moments of intense suspense and tension to mind-blowing action, as a first person shooter, Half-Life 2 is excellent. Here I must return to the game's amazing (I'm running out of superlatives here) physics engine. Freeman can pick up objects and shift them around, but it is the gravity gun that makes this area of the game truly unique. Using the gravity gun (in the game this is also known as the Zero Point Energy Field Manipulator), Gordon Freeman can pick up objects and, with a single click, send them flinging away. Apart from being a handy tool in solving the game's many gravity-based puzzles, the practice of hurling barrels at unsuspecting zombies is quite gratifying!\\n\\nMy only gripe with Half-Life 2 is the annoying system by which one must connect to the internet and \"log in\" with Steam for the game to run. Apart from being intensely frustrating when notified that the servers are too busy to run the game, such an unwieldy system really eliminates those without an internet connection, and taints what would otherwise be an unbelievable addition to the Half-Life series.</td>\n",
       "      <td>[minute, begin, halflife, dawn, much, predecessor, halflife, game, be, truly, revolutionary, not, only, astound, graphic, engine, truly, cinematic, scope, plot, be, engage, immensely, beguiling, halflife, theoretical, physicist, gordon, freeman, order, superior, activate, interdimensional, rift, black, mesa, research, facility, situate, desert, depth, rift, enter, race, alien, know, nihilant, proceed, lay, waste, facility, threaten, humanity, freeman, enter, rift, succeed, destroy, homeworld, alien, originate, however, arrival, black, mesa, research, facility, military, engage, vicious, coverup, involve, extermination, survivor, halflife, gordon, freeman, have, return, earth, homeworld, nihilant, discovers, city, orwellian, nightmare, citizen, have, be, completely, subjugate, authoritarian, regime, know, combine, exacerbate, problem, alien, release, black, ...]</td>\n",
       "      <td>6.125</td>\n",
       "    </tr>\n",
       "    <tr>\n",
       "      <th>3451</th>\n",
       "      <td>I haven't had the chance to play this as of yet but hear it is just as good if not better then call of duty 3 and 1.</td>\n",
       "      <td>[i, havent, have, chance, play, yet, hear, be, just, good, not, well, then, call, duty]</td>\n",
       "      <td>1.625</td>\n",
       "    </tr>\n",
       "    <tr>\n",
       "      <th>2483</th>\n",
       "      <td>It was hot for over a month, but once you get most of the different weapons and upgrades, and, do all the training, and battle a few hundred times, the thrill is kinda gone.  It doesn't have the long game going for it.  Also, when you play two player at home, one person is on the handheld and the other person gets the big screen.  It has a lot of limitations that we did not anticipate would be limitations.  Read carefully how this and that works with this game before you throw money at it.  It is done, and probably never to rise again, at this point in our house.</td>\n",
       "      <td>[be, hot, month, once, get, most, different, weapon, upgrade, do, training, battle, few, hundred, time, thrill, be, kinda, go, doesnt, have, long, game, go, also, play, player, home, person, be, handheld, other, person, get, big, screen, have, lot, limitation, do, not, anticipate, be, limitation, read, carefully, work, game, throw, money, be, do, probably, never, rise, again, point, house]</td>\n",
       "      <td>0.500</td>\n",
       "    </tr>\n",
       "    <tr>\n",
       "      <th>1913</th>\n",
       "      <td>I didn't really like it, I think Air Conflicts Secret Wars is a lot better.</td>\n",
       "      <td>[i, didnt, really, i, think, air, conflict, secret, war, be, lot, well]</td>\n",
       "      <td>0.625</td>\n",
       "    </tr>\n",
       "    <tr>\n",
       "      <th>2591</th>\n",
       "      <td>Works great for displaying my Xbox one controllers. They have changed the design alittle making it different enough that it does not hold the Xbox 360 controllers as well as the first ones did. Still recommend it for displaying your X1 Halo controllers.</td>\n",
       "      <td>[work, great, display, xbox, controller, have, change, design, alittle, make, different, enough, do, not, hold, xbox, controller, well, first, one, do, still, recommend, display, x1, halo, controller]</td>\n",
       "      <td>0.500</td>\n",
       "    </tr>\n",
       "  </tbody>\n",
       "</table>\n",
       "</div>"
      ],
      "text/plain": [
       "                                                                                                                                                                                                                                                                                                                                                                                                                                                                                                                                                                                                                                                                                                                                                                                                                                                                                                                                                                                                                                                                                                                                                                                                                                                                                                                                                                                                                                                                                                                                                                                                                                                                                                                                                                                                                                                                                                                                                                                                                                                                                                                                                                                                                                                                                                                                                                                                                                                                                                                                                                                                                                                                                                                                                                                                                                                                                                                                                                                                                                                                                                                                                                                                                                                                                                                                                                                                                                                                                                                                                                                                                                                                                                                                                                     reviewText  \\\n",
       "4075  Within minutes of beginning Half-Life 2, it dawned upon me that much like its predecessor, \"Half-Life,\" the game is truly revolutionary, not only for its astounding graphics engine but for its truly cinematic scope.\\n\\nThe plot is engaging and immensely beguiling. In Half-Life 1, the theoretical physicist Gordon Freeman, under the orders of his superiors, activated an interdimensional rift at the Black Mesa research facility situated in the desert. From the depths of the rift entered a race of aliens known as the Nihilant, which proceeded to lay waste to the facility and threaten humanity. Freeman entered through the rift and succeeded in destroying the homeworld from which the aliens originated. However, upon arrival at the Black Mesa Research Facility, the military engaged in a vicious cover-up involving the extermination of all survivors. In Half-Life 2, Gordon Freeman, having returned to Earth from the homeworld of the Nihilant, discovers City 17, an Orwellian nightmare in which the citizens have been completely subjugated by an authoritarian regime known as the Combine. Exacerbating the problem, the aliens released from Black Mesa now run amok in City 17. Fans of the original Half-Life will be pleased to learn that the characters Barry Calhoun and Dr Kleiner return from the original game and are leaders of a small band of resistance against the dictatorial regime.\\n\\nHighly detailed and with the most impressive physics engine I have ever seen in a game, Valve has created an environment in which gravity plays a pivotal and incredibly important role. Examples of this include stacking boxes to climb over a fence or through a window or floating barrels to raise a platform. The vast cityscapes and highly detailed facial features of the main characters are of a level never seen before. Unlike any other game presently, the features of the characters are truly lifelike, with visible wrinkles, expressions and pores. Other than the mesmeric and plentiful eye candy, the captivating plot engages successfully with the gamer, and I found the experience exceedingly satisfying. The musical score is excellent and seamlessly changes from that befitting a brooding atmosphere to a sequence of first person shooter action. It augments the gameplay well, though there are times where the score could use more variation.\\n\\nIt is, however, in the area of gameplay that Half-Life 2 truly excels. While Gordon Freeman is never seen and never speaks, this hardly detracts from the experience. Effortlessly shifting from moments of intense suspense and tension to mind-blowing action, as a first person shooter, Half-Life 2 is excellent. Here I must return to the game's amazing (I'm running out of superlatives here) physics engine. Freeman can pick up objects and shift them around, but it is the gravity gun that makes this area of the game truly unique. Using the gravity gun (in the game this is also known as the Zero Point Energy Field Manipulator), Gordon Freeman can pick up objects and, with a single click, send them flinging away. Apart from being a handy tool in solving the game's many gravity-based puzzles, the practice of hurling barrels at unsuspecting zombies is quite gratifying!\\n\\nMy only gripe with Half-Life 2 is the annoying system by which one must connect to the internet and \"log in\" with Steam for the game to run. Apart from being intensely frustrating when notified that the servers are too busy to run the game, such an unwieldy system really eliminates those without an internet connection, and taints what would otherwise be an unbelievable addition to the Half-Life series.   \n",
       "3451                                                                                                                                                                                                                                                                                                                                                                                                                                                                                                                                                                                                                                                                                                                                                                                                                                                                                                                                                                                                                                                                                                                                                                                                                                                                                                                                                                                                                                                                                                                                                                                                                                                                                                                                                                                                                                                                                                                                                                                                                                                                                                                                                                                                                                                                                                                                                                                                                                                                                                                                                                                                                                                                                                                                                                                                                                                                                                                                                                                                                                                                                                                                                                                                                                                                                                                                                                                                                                                                                                                                                                                                                                                       I haven't had the chance to play this as of yet but hear it is just as good if not better then call of duty 3 and 1.   \n",
       "2483                                                                                                                                                                                                                                                                                                                                                                                                                                                                                                                                                                                                                                                                                                                                                                                                                                                                                                                                                                                                                                                                                                                                                                                                                                                                                                                                                                                                                                                                                                                                                                                                                                                                                                                                                                                                                                                                                                                                                                                                                                                                                                                                                                                                                                                                                                                                                                                                                                                                                                                                                                                                                                                                                                                                                                                                                                                                                                                                                                                                                                                                                                                                                                                  It was hot for over a month, but once you get most of the different weapons and upgrades, and, do all the training, and battle a few hundred times, the thrill is kinda gone.  It doesn't have the long game going for it.  Also, when you play two player at home, one person is on the handheld and the other person gets the big screen.  It has a lot of limitations that we did not anticipate would be limitations.  Read carefully how this and that works with this game before you throw money at it.  It is done, and probably never to rise again, at this point in our house.   \n",
       "1913                                                                                                                                                                                                                                                                                                                                                                                                                                                                                                                                                                                                                                                                                                                                                                                                                                                                                                                                                                                                                                                                                                                                                                                                                                                                                                                                                                                                                                                                                                                                                                                                                                                                                                                                                                                                                                                                                                                                                                                                                                                                                                                                                                                                                                                                                                                                                                                                                                                                                                                                                                                                                                                                                                                                                                                                                                                                                                                                                                                                                                                                                                                                                                                                                                                                                                                                                                                                                                                                                                                                                                                                                                                                                                I didn't really like it, I think Air Conflicts Secret Wars is a lot better.   \n",
       "2591                                                                                                                                                                                                                                                                                                                                                                                                                                                                                                                                                                                                                                                                                                                                                                                                                                                                                                                                                                                                                                                                                                                                                                                                                                                                                                                                                                                                                                                                                                                                                                                                                                                                                                                                                                                                                                                                                                                                                                                                                                                                                                                                                                                                                                                                                                                                                                                                                                                                                                                                                                                                                                                                                                                                                                                                                                                                                                                                                                                                                                                                                                                                                                                                                                                                                                                                                                                                                                                                                                              Works great for displaying my Xbox one controllers. They have changed the design alittle making it different enough that it does not hold the Xbox 360 controllers as well as the first ones did. Still recommend it for displaying your X1 Halo controllers.   \n",
       "\n",
       "                                                                                                                                                                                                                                                                                                                                                                                                                                                                                                                                                                                                                                                                                                                                                                                                                                                                                                         lemmas  \\\n",
       "4075  [minute, begin, halflife, dawn, much, predecessor, halflife, game, be, truly, revolutionary, not, only, astound, graphic, engine, truly, cinematic, scope, plot, be, engage, immensely, beguiling, halflife, theoretical, physicist, gordon, freeman, order, superior, activate, interdimensional, rift, black, mesa, research, facility, situate, desert, depth, rift, enter, race, alien, know, nihilant, proceed, lay, waste, facility, threaten, humanity, freeman, enter, rift, succeed, destroy, homeworld, alien, originate, however, arrival, black, mesa, research, facility, military, engage, vicious, coverup, involve, extermination, survivor, halflife, gordon, freeman, have, return, earth, homeworld, nihilant, discovers, city, orwellian, nightmare, citizen, have, be, completely, subjugate, authoritarian, regime, know, combine, exacerbate, problem, alien, release, black, ...]   \n",
       "3451                                                                                                                                                                                                                                                                                                                                                                                                                                                                                                                                                                                                                                                                                                                                                                                                                    [i, havent, have, chance, play, yet, hear, be, just, good, not, well, then, call, duty]   \n",
       "2483                                                                                                                                                                                                                                                                                                                                                                                                                                                                                                   [be, hot, month, once, get, most, different, weapon, upgrade, do, training, battle, few, hundred, time, thrill, be, kinda, go, doesnt, have, long, game, go, also, play, player, home, person, be, handheld, other, person, get, big, screen, have, lot, limitation, do, not, anticipate, be, limitation, read, carefully, work, game, throw, money, be, do, probably, never, rise, again, point, house]   \n",
       "1913                                                                                                                                                                                                                                                                                                                                                                                                                                                                                                                                                                                                                                                                                                                                                                                                                                    [i, didnt, really, i, think, air, conflict, secret, war, be, lot, well]   \n",
       "2591                                                                                                                                                                                                                                                                                                                                                                                                                                                                                                                                                                                                                                                                                                   [work, great, display, xbox, controller, have, change, design, alittle, make, different, enough, do, not, hold, xbox, controller, well, first, one, do, still, recommend, display, x1, halo, controller]   \n",
       "\n",
       "      sentiment_score  \n",
       "4075            6.125  \n",
       "3451            1.625  \n",
       "2483            0.500  \n",
       "1913            0.625  \n",
       "2591            0.500  "
      ]
     },
     "execution_count": 45,
     "metadata": {},
     "output_type": "execute_result"
    }
   ],
   "source": [
    "reviews[['reviewText','lemmas','sentiment_score']].sample(5)"
   ]
  },
  {
   "cell_type": "code",
   "execution_count": 51,
   "metadata": {},
   "outputs": [],
   "source": [
    "from nltk import sent_tokenize, pos_tag\n",
    "from nltk.tokenize import TreebankWordTokenizer\n",
    "from nltk.stem import WordNetLemmatizer\n",
    "from nltk.corpus import wordnet as wn\n",
    "from nltk.corpus import sentiwordnet as swn\n",
    "from nltk.sentiment.util import mark_negation\n",
    "from string import punctuation\n",
    "from IPython.display import display\n",
    "import pandas as pd\n",
    "import numpy as np\n",
    "import seaborn as sns\n",
    "import matplotlib.pyplot as plt\n",
    "pd.set_option('display.max_columns', None)\n",
    "pd.set_option('display.max_colwidth', None)"
   ]
  },
  {
   "cell_type": "code",
   "execution_count": 52,
   "metadata": {},
   "outputs": [],
   "source": [
    "def get_sentiment_score1(text):\n",
    "    \n",
    "    \"\"\"\n",
    "        This method returns the sentiment score of a given text using SentiWordNet sentiment scores.\n",
    "        input: text\n",
    "        output: numeric (double) score, >0 means positive sentiment and <0 means negative sentiment.\n",
    "    \"\"\"    \n",
    "    total_score = 0\n",
    "    #print(text)\n",
    "    raw_sentences = sent_tokenize(text)\n",
    "    #print(raw_sentences)\n",
    "    \n",
    "    for sentence in raw_sentences:\n",
    "\n",
    "        sent_score = 0     \n",
    "        sentence = str(sentence)\n",
    "        #print(sentence)\n",
    "        sentence = sentence.replace(\"<br />\",\" \").translate(str.maketrans('','',punctuation)).lower()\n",
    "        tokens = TreebankWordTokenizer().tokenize(text)\n",
    "        tags = pos_tag(tokens)\n",
    "        for word, tag in tags:\n",
    "            wn_tag = penn_to_wn(tag)\n",
    "            if not wn_tag:\n",
    "                continue\n",
    "            lemma = WordNetLemmatizer().lemmatize(word, pos=wn_tag)\n",
    "            if not lemma:\n",
    "                continue\n",
    "            synsets = wn.synsets(lemma, pos=wn_tag)\n",
    "            if not synsets:\n",
    "                continue\n",
    "            synset = synsets[0]\n",
    "            swn_synset = swn.senti_synset(synset.name())\n",
    "            sent_score += swn_synset.pos_score() - swn_synset.neg_score()\n",
    "\n",
    "        total_score = total_score + (sent_score / len(tokens))\n",
    "\n",
    "    \n",
    "    return (total_score / len(raw_sentences)) * 100"
   ]
  },
  {
   "cell_type": "code",
   "execution_count": 53,
   "metadata": {},
   "outputs": [],
   "source": [
    "reviews1 = pd.read_csv(r\"C:\\Users\\16692\\Documents\\small.csv\",encoding=\"utf8\")"
   ]
  },
  {
   "cell_type": "code",
   "execution_count": 54,
   "metadata": {},
   "outputs": [
    {
     "data": {
      "text/plain": [
       "<bound method DataFrame.info of       overall  verified   reviewTime      reviewerID        asin  \\\n",
       "0         1.0     False   10 3, 2013  A10RFAF1CGFKHZ  B000CN750I   \n",
       "1         1.0      True  01 22, 2011  A3RUOVKA1S5NYX  B00005MAMO   \n",
       "2         1.0     False  11 26, 2010  A2UWYXQMVSPP0Z  B0012N746W   \n",
       "3         1.0      True  03 23, 2011  A2KZ5ABOP3EORT  B002BS47YE   \n",
       "4         1.0     False  11 15, 2016   A2IFUYQJJE09D  B01GKF824Y   \n",
       "...       ...       ...          ...             ...         ...   \n",
       "4495      5.0      True  02 12, 2017  A2WO2CO45PBQDU  B00WTI3JPE   \n",
       "4496      5.0     False  11 14, 2016  A3V7F58M4ZXHIF  B01EZAA2ZI   \n",
       "4497      5.0      True  11 18, 2011   AMQT10YWC37U2  B002BSA3EM   \n",
       "4498      5.0      True   06 5, 2016  A3GBXZ2FRXD2D9  B00CMQTUSS   \n",
       "4499      5.0     False   10 9, 2008   AVX1L42T98R8P  B00029QQNY   \n",
       "\n",
       "             reviewerName  \\\n",
       "0                    J.C.   \n",
       "1                   ksnod   \n",
       "2              majorlynch   \n",
       "3       Brent A. Feinberg   \n",
       "4              TimetoRise   \n",
       "...                   ...   \n",
       "4495    KATHLEEN RICHARDS   \n",
       "4496       Night Lord 40K   \n",
       "4497               Vestil   \n",
       "4498              Stephen   \n",
       "4499  Benjamin S. Sprague   \n",
       "\n",
       "                                                                                                                                                                                                                                                                                                                                                                                                                                                                                                                                                                                                                                                                                                                                                                                                                                                                                                                                                                                                                                                                                                                                                                                                                                                                                                                                                                                                                                                                                                                                                                                                                                                                                                                                                                                                                                                                                                                                                                                                                                                                                                                                                                                                                                                                                                                                                                                                                                                                                                                                                                                                                                                                                                                                                                                                                                                                                                                                                                                                                                                                                                                                                                                                                                                                                                                                                                                                                                                                                                                                                                                                                                                                                                                                                                                                                                                                                                                                                                                                                                                                                                                                                                                                                                                                                                                                                                                                                                                                                                                                                                                                                                                                                                                                                                                                                                                                                                                                                                                                                                                                                                                                                                                                                                                                                                                                                                                                                                                                                                                                                                                                                                                                   reviewText  \\\n",
       "0                                                                                                                                                                                                                                                                                                                                                                                                                                                                                                                                                                                                                                                                                                                                                                                                                                                                                                                                                                                                                                                                                                                                                                                                                                                                                                                                                                                                                                                                                                                                                                                                                                                                                                                                                                                                                                                                                                                                                                                                                                                                                                                                                                                                                                                                                                                                                                                                                                                                                                                                                                                                                                                                                                                                                                                                                                                                                                                                                                                                                                                                                                                                                                                                                                                                                                                                                                                                                                                                                                                                                                                                                                                                                                                                                                                                                                                                                                                                                                                                                                                                                                                                                                                                                                                                                                                                                                                                                                                                                                                                                                                                                                                                                                                                                                                                                                                                                                                                  ...you're relying on it's preloaded cheat codes.  Gameshark has since shut down any support for this software disk. There's a ton of games you won't find codes for or any updated codes for previous games. Gameshark also removed all updates for preuploaded cheat codes so you can transfer them to your PS2 via flash pen drive. Unless you're a wiz at programming your own codes via computer and know how to transfer them to the memory card on disk boot up, don't bother with this crap. Gameshark is no longer Gameshark at it's core. It's been bought out and management is completely lacking. They now provide different and cheaper products that have nothing to do with cheats or codes. Look to other devices instead.   \n",
       "1                                                                                                                                                                                                                                                                                                                                                                                                                                                                                                                                                                                                                                                                                                                                                                                                                                                                                                                                                                                                                                                                                                                                                                                                                                                                                                                                                                                                                                                                                                                                                                                                                                                                                                                                                                                                                                                                                                                                                                                                                                                                                                                                                                                                                                                                                                                                                                                                                                                                                                                                                                                                                                                                                                                                                                                                                                                                                                                                                                                                                                                                                                                                                                                                                                                                                                                                                                                                                                                                                                                                                                                                                                                                                                                                                                                                                                                                                                                                                                                                                                                                                                                                                                                                                                                                                                                                                                                                                                                                                                                                                                                                                                                                                                                                                                                                                                                                                                                                                                                                                                                                                                                                                                                                                                                                                                                                                          They said it was in Good condition, thats what i was hoping for until i put the card into my controller to save my game for 007 World is Not Enough and it said \"Controller Pak may be damaged or broken\" well it was! I am not happy at all about this product and will never buy from this person/company again!   \n",
       "2                                                                                                                                                                                                                                                                                                                                                                                                                                                                                                                                                                                                                                                                                                                                                                                                                                                                                                                                                                                                                                                                                                                                                                                                                                                                                                                                                                                                                                                                                                                                                                                                                                                                                                                                                                                                                                                                                                                                                                                                                                                                                                                                                                                                                                                                                                                                                                                                                                                                                                                                                                                                                                                                                                                                                                                                                                                                                                                                                                                                                                                                                                                                                                                                                                                                                                                                                                                                                                                                                                                                                                                                                                                                                                                                                                                                                                                                                                                                                                                                                                                                                                                                                                                                                                                                                                                                                                                                                                                                                                                                                                                                                                                                                                                                                                                                                                                                                                                                                                                                                                                                                                                                                                                                                                                                                 When I buy a game I want to be able to buy the FULL game. So if there is DLC for the game I want to be able to buy that too.\\n\\nSo Eidos decide DLC is available for the Xbox 360 ONLY. Which means the PS3 version is never the full product.\\n\\nSo now I have to buy it on the xbox 360 to get the full experience AFTER buying it already.\\n\\nOne star for a shocking business practice.   \n",
       "3                                                                                                                                                                                                                                                                                                                                                                                                                                                                                                                                                                                                                                                                                                                                                                                                                                                                                                                                                                                                                                                                                                                                                                                                                                                                                                                                                                                                                                                                                                                                                                                                                                                                                                                                                                                                                                                                                                                                                                                                                                                                                                                                                                                                                                                                                                                                                                                                                                                                                                                                                                                                                                                                                                                                                                                                                                                                                                                                                                                                                                                                                                                                                                                                                                                                                                                                                                                                                                                                                                                                                                                                                                                                                                                                                                                                                                                                                                                                                                                                                                                                                                                                                                                                                                                                                                                                                                                                                                                                                                                                                                                                                                                                                                                                                                                                                                                                                                                                                                                                                                                       I was really looking forward to this game showing what my system was capable of. Unfortunately, the best this game can do is tax an XBOX 360 which is ancient 5 year old HW. The game plays like almost every other generic shooter out there in confined spaces. Honestly, there is no reason anymore to buy an advanced computer with a good graphics card. PC Gamers should avoid this game and look elsewhere. There are only 3 graphics options on the settings screen. The amount of motion blur is rediculous and is used to cover up the very low resolution textures.\\n\\nI wish I could send this turd back.   \n",
       "4                                                                                                                                                                                                                                                                                                                                                                                                                                                                                                                                                                                                                                                                                                                                                                                                                                                                                                                                                                                                                                                                                                                                                                                                                                                                                                                                                                                                                                                                                                                                                                                                                                                                                                                                                                                                                                                                                                                                                                                                                                                                                                                                                                                                                                                                                                                                                                                                                                                                                                                                                                                                                                                                                                                                                                                                                                                                                                                                                                                                                                                                                                                                                                                                                                                                                                                                                                                                                                                                                                                                                                                                                                                                                                                                                                                                                                                                                                                                                                                                                                                                                                                                                                                                                                                                                                                                                                                                                                                                                                                                                                                                                                                                                                                                                                                                                                                                                                                                                                                                                                                                                                                                                                                                                                                                                                                                                                      Terribly boring and quite honestly not very fun. The game can entertain you for the first hour or so. Very repetitive and unfortunately BORING. The main character is a walking clich and the controls are clunky. The storyline is incredibly weak. I would pass on this or wait for a deep discount.   \n",
       "...                                                                                                                                                                                                                                                                                                                                                                                                                                                                                                                                                                                                                                                                                                                                                                                                                                                                                                                                                                                                                                                                                                                                                                                                                                                                                                                                                                                                                                                                                                                                                                                                                                                                                                                                                                                                                                                                                                                                                                                                                                                                                                                                                                                                                                                                                                                                                                                                                                                                                                                                                                                                                                                                                                                                                                                                                                                                                                                                                                                                                                                                                                                                                                                                                                                                                                                                                                                                                                                                                                                                                                                                                                                                                                                                                                                                                                                                                                                                                                                                                                                                                                                                                                                                                                                                                                                                                                                                                                                                                                                                                                                                                                                                                                                                                                                                                                                                                                                                                                                                                                                                                                                                                                                                                                                                                                                                                                                                                                                                                                                                                                                                                                                                       ...   \n",
       "4495                                                                                                                                                                                                                                                                                                                                                                                                                                                                                                                                                                                                                                                                                                                                                                                                                                                                                                                                                                                                                                                                                                                                                                                                                                                                                                                                                                                                                                                                                                                                                                                                                                                                                                                                                                                                                                                                                                                                                                                                                                                                                                                                                                                                                                                                                                                                                                                                                                                                                                                                                                                                                                                                                                                                                                                                                                                                                                                                                                                                                                                                                                                                                                                                                                                                                                                                                                                                                                                                                                                                                                                                                                                                                                                                                                                                                                                                                                                                                                                                                                                                                                                                                                                                                                                                                                                                                                                                                                                                                                                                                                                                                                                                                                                                                                                                                                                                                                                                                                                                                                                                                                                                                                                                                                                                                                                                                                                                                                                                                                                                                                                                                                                          I love the game   \n",
       "4496  I will be reviewing this as a combo package, and not just a COD Infinite warfare review, because that's what this edition is, and is why it gets the score I am giving it.\\n\\n  INFINITE WARFARE\\n\\nCall of Duty Infinite warfare has an exceptional campaign and one that I see myself playing multiple times, unlike the Black Ops 3 campaign that I had to push myself through just to finish the game. Infinite is truly an enjoyable ride with diverse locations and all the high octane blockbuster moments you expect in a Call of Duty title.\\n\\nGraphics : Infinite is a beautiful game, there simply is no doubt about that. It is very appealing to the eyes throughout the campaign, whether it be during an all out war against the enemy or during moments of calm when you can take the time to look around and really appreciate what the developers have done with the game, it is just simply beautiful.\\n\\nVoice : This will come as no surprise, the voice acting in this game just like all previous titles is top notch Hollywood quality acting. all the characters in the game are very well acted, and are to the point you can feel the emotion translated from the voice actors to the characters you are seeing on screen, all is excellent in this department and I simply cannot find a fault.\\n\\nGameplay : This is a fast paced first person shooter like all the previous titles, with tight controls and excellent shooting mechanics. The character movements feels to be just a bit slower than black ops 3, but not to much that you won't completely forget about it after playing a short while. So just as all previous entries, you will know what to expect here, different story, different locations, different characters, but still the same fast paced tight shooter you remember and want it to be.\\n\\nMultiplayer : This is where I wanted to knock off a star but just couldn't bring myself to do so. It feels ALOT like Black Ops 3, and I have gotten very tired of the wall running and boosting into the air like the previous two titles. I was hoping for a completely boots on the ground Call of Duty, and that is not what was delivered. There is wall running, there is boosting, there is sliding, there is absolutely all the movements from the previous two titles in this game. Although this multiplayer was not what I wanted it is fun, and buying this COMBO package I did get the multiplayer experience I have wanted since COD decided to go to far into the future. ( SEE EXPLINATION BELOW )\\n\\n  MODERN WARFARE RE-MASTERED\\n\\nThis is what makes this package the five star game I believe it is. Modern Warfare Is what really put Call of Duty on the map and is still by far the best there has ever been. Modern Warfare has one of the best campaigns to date within the Call of Duty franchise, and all holds up perfectly well with the re-master it has received.\\n\\nStory : Simply compelling. You will find yourself caring very much about the characters within this game, and enjoying the ride throughout the game. There never seems to be a dull moment where I found my self just pushing my way through just to get to the end. I simply enjoyed every minute.\\n\\nGraphics : The developers did an outstanding job in the campaign and multiplayer making this game look and feel like a current generation game. The game was groundbreaking last generation and is certainly no slouch now that it has received a face lift for the current generation. It's an absolutely gorgeous game.\\n\\nVoice Acting : exactly the same as it was before, nothing has changed, and that is a good thing because the original had a AAA cast of voice actors and everything is intact but with some updated audio that makes everything in the game have a bit more punch than it did originally.\\n\\nMultiplayer : This is the bread and butter of this game, the campaign is great and so is the campaign on Infinite Warfare, but Modern Warfare's multiplayer is the multiplayer I have been wanting since Advanced Warfare released and went to far with those ridiculous exo suits and boosters. This is boots on the ground classic COD that we have all been wanting, This and the two campaigns in this package equal a 5 star rating in my book, absolutely excellent. I may not love the Infinite Warfare multiplayer but everything else completely makes up for it, and maybe the developers will get it through their heads that we do not want futuristic COD multiplayer. If they had just kept it completely boots on the ground in the infinite Warfare multiplayer then I'm sure my view of the game would have been better, oh well, I'm happy with Modern Warfare until next year and hopefully the developers have learned that we do not want anything but BOOTS ON THE GROUND MULTIPLAYER.. You can bet the developers and Activision  are tracking how many players are on each game ( Infinite Warfare - Modern Warfare ) , and react accordingly. I have a feeling the next game will be boots on the ground, I have my fingers crossed for a WW 2 game :). So with all that said I an giving this PACKAGE ( Infinite Warfare/ Modern Warfare ) a\\n\\nSolid 5 out of 5\\n\\nThink about this before you dismiss the purchase of this game, You get two exceptional campaigns, two separate multiplayers that you can go back and forth to when one gets stale, and you get EVERY multiplayer map ever released for Modern Warfare with all the re-mastered goodness. That is a whole lot of value ( in my opinion ) , and a whole lot of gaming goodness..   \n",
       "4497                                                                                                                                                                                                                                                                                                                                                                                                                                                                                                                                                                                                                                                                                                                                                                                                                                                                                                                                                                                                                                                                                                                                                                                                                                                                                                                                                                                                                                                                                                                                                                                                                                                                                                                                                                                                                                                                                                                                                                                                                                                                                                                                                                                                                                                                                                                                                                                                                                                                                                                                                                                                                                                                                                                                                                                                                                                                                                                                                                                                                                                                                                                                                                                                                                                                                                                                                                                                                                                                                                                                                                                                                                                                                                                                                                                                                                                                                                                                                                                                                                                                                                                                                                                                                                                                                                                                                                                                                                                                                                                                                                                                                                                                                                                                                                                                                                                                                                                                                                                                                                                                                                                                                                                                                                                                                                                                                                                                                                                                                                                                    This is a must for a Videogamer, and your health is sure to go up a couple of notches before you get tired of it (that is if you do).   \n",
       "4498                                                                                                                                                                                                                                                                                                                                                                                                                                                                                                                                                                                                                                                                                                                                                                                                                                                                                                                                                                                                                                                                                                                                                                                                                                                                                                                                                                                                                                                                                                                                                                                                                                                                                                                                                                                                                                                                                                                                                                                                                                                                                                                                                                                                                                                                                                                                                                                                                                                                                                                                                                                                                                                                                                                                                                                                                                                                                                                                                                                                                                                                                                                                                                                                                                                                                                                                                                                                                                                                                                                                                                                                                                                                                                                                                                                                                                                                                                                                                                                                                                                                                                                                                                                                                                                                                                                                                                                                                                                                                                                                                                                                                                                                                                                                                                                                                                                                                                                                                                                                                                                                                                                                                                                                                                                                                                                                                                                                                                                                                                                                                                                                                                          cancelled order and returned it   \n",
       "4499                                                                                                                                                                                                                                                                                                                                                      As Covenant stands it was at least to me the best in the series. The first game while very good still had dated visuals and the Ring of fate system was not quite so polished. From the new world by comparison did everything awesomely and yet despite that fact it seems shorter with a story line not as well contrived. I still strongly suggest you get every game but if a sadistic leprechaun presented you with the choice to only get one Shadow Hearts title Covenant would be the best route.\\n\\nSome people say Covenant had a weak story and I never understood that argument. Firstly it ties into the previous game perfectly and secondly there were many unexpected twists especially concerning Karin the beautiful and sweet German lieutenant.\\n\\nSo who is main hero Yuri? Yuri is a harmonixer, a guy like any other save for the fact he can turn into various monsters. To unlock them he must go to a dismal \"graveyard\" in his own mind to fight each of his odd psyches in order to transform into them. Just by that explanation alone Shadow Hearts seems more original then more than half of the rpgs out there.\\n\\nYet Yuri is presented with a problem. To save the world the girl he loved had to die and Yuri handles all this like a true human being. He swears, he cries, he drinks alcohol , and to make up for things he considers his fault he helps the people in a small German village survive and avoid the persecution of the military. This my friends is why Yuri is so great. He is a good person but he is not perfect and fake like \"most\" of the Final Fantasy-esque heroes out there swinging around their bus sized swords.\\n\\nSo what happens? Karin, a beautiful high ranking female soldier is forced to help a Vatican priest named  Nicholas confront \"the demon\" who so happens to be Yuri. Granted Yuri was just protecting kindly villagers and trying to take a nap but naturally the opposition does not see it that way. Nicholas proves to be a jerk infecting Yuri with a curse and after Karin sees \"altar boy\" is an unscrupulous fanatic that has his thugs torment little girls she dumps him in a heart beat to help the good guys.\\n\\nAlready Yuri is teamed up with Gepetto a heavy drinking puppeteer with a doll fetish and Blanca , a wolf who is very intelligent and loyal. Those these characters are \"odd\" they are not entirely unbelievable. Regardless Yuri and company set out to find a way to remove his curse and as expected it gets a lot more complicated.\\n\\nIn addition to the aforementioned heroes Yuri is joined by Anastasia the adorable princess of Russia, a voluptuous Fortune teller named Luca, a young bishi-looking Japanese samurai, and a jovial wrestler vigilante vampire named Joachim who can make almost anything into an effective weapon.\\n\\nThough that may seem hard to take in every character does have a good background and there are many side quests to increase their abilities.\\n\\nIf you missed a lot of the interesting NPCs from the first game fret not because a good majority of them make cameos in Covenant along with dastardly or kinky villains such as the dark magician Rasputin and the sado masochistic Dominatrix Veronica. Covenant has no shame in portraying its' inhabitants as perverts, odd fetish enthusiasts, gay merchants, or sex crazed desperadoes. Even Yuri is hot blooded. While some conservative gamers might find this odd or deplorable I liked it. In Final fantasy so many scantily clad women run around yet all the guys do is sit around talking about delicious pie or how they will get their \"perfect kiss\". Maybe young girls like their neutered \"perfect prince fantasies\" but once said girls become adults they probably agree that RPGS need to address \"human desires\" more often to create a more believable setting.\\n\\nAs you can guess Covenant takes place in the wake of World War 1 spanning across Europe and Japan. The thing I love about Shadow Hearts is it uses our own reality to tell its' tales. This is a very original approach I've not seen in many other Japanese rpgs.\\n\\nSo through it all you'll laugh, you'll cry, and be fully satisfied after getting both the good ending and bad ending. There's 60+ hours packed into this beautiful beast and you definitely should explore every nook and cranny before serving up pain to the end boss.\\n\\nPros\\n\\n+ Great sound track\\n\\n+ Interesting \"fictional tale\" interwoven with real history.\\n\\n+ Lovable characters\\n\\n+ Unexpected twists and turns.\\n\\n+ Finishes the story arch from the first game.\\n\\n+ Ring of fate system makes you pay attention and time your button mashes carefully. Whether its' slaying monsters or bartering with merchants it puts an exciting element over the top of what would normally be a boring turn based experience.\\n\\nCons\\n\\n- The towns are small\\n\\n- Some of the \"stereotypes\" are a bit too over the top and may offend certain players.\\n\\n-Like almost all J-rpgs you are not presented with many choices on how to do things. The way you answer one question near the end of the game determines what ending you get.  It is usually a point A to point B affair and even the map is set up this way.   \n",
       "\n",
       "                                                 summary  unixReviewTime  \\\n",
       "0     DO NOT buy this disk - A waste of money unless....      1380758400   \n",
       "1                                          Peice of Crap      1295654400   \n",
       "2                                      NO DLC FOR PS3!!!      1290729600   \n",
       "3                      Horrible port of an XBOX 360 game      1300838400   \n",
       "4                                  Boring and Repetitive      1479168000   \n",
       "...                                                  ...             ...   \n",
       "4495                                          Five Stars      1486857600   \n",
       "4496                         Doesn't deserve the hate !!      1479081600   \n",
       "4497                              Best Fitness game ever      1321574400   \n",
       "4498                                          Five Stars      1465084800   \n",
       "4499               A classic RPG Fans should appreciate!      1223510400   \n",
       "\n",
       "      vote                                                   style image  \n",
       "0      2.0                                                     NaN   NaN  \n",
       "1      NaN                                                     NaN   NaN  \n",
       "2      5.0                              {'Format:': ' Video Game'}   NaN  \n",
       "3     21.0                              {'Format:': ' Video Game'}   NaN  \n",
       "4      5.0     {'Edition:': ' Standard', 'Platform:': ' Xbox One'}   NaN  \n",
       "...    ...                                                     ...   ...  \n",
       "4495   NaN                       {'Format:': ' Software Download'}   NaN  \n",
       "4496   NaN  {'Edition:': ' Legacy', 'Platform:': ' PlayStation 4'}   NaN  \n",
       "4497   NaN                                                     NaN   NaN  \n",
       "4498   NaN                              {'Format:': ' Video Game'}   NaN  \n",
       "4499   NaN                                                     NaN   NaN  \n",
       "\n",
       "[4500 rows x 12 columns]>"
      ]
     },
     "execution_count": 54,
     "metadata": {},
     "output_type": "execute_result"
    }
   ],
   "source": [
    "reviews1.info"
   ]
  },
  {
   "cell_type": "code",
   "execution_count": 55,
   "metadata": {},
   "outputs": [
    {
     "data": {
      "text/html": [
       "<div>\n",
       "<style scoped>\n",
       "    .dataframe tbody tr th:only-of-type {\n",
       "        vertical-align: middle;\n",
       "    }\n",
       "\n",
       "    .dataframe tbody tr th {\n",
       "        vertical-align: top;\n",
       "    }\n",
       "\n",
       "    .dataframe thead th {\n",
       "        text-align: right;\n",
       "    }\n",
       "</style>\n",
       "<table border=\"1\" class=\"dataframe\">\n",
       "  <thead>\n",
       "    <tr style=\"text-align: right;\">\n",
       "      <th></th>\n",
       "      <th>overall</th>\n",
       "      <th>verified</th>\n",
       "      <th>reviewTime</th>\n",
       "      <th>reviewerID</th>\n",
       "      <th>asin</th>\n",
       "      <th>reviewerName</th>\n",
       "      <th>reviewText</th>\n",
       "      <th>summary</th>\n",
       "      <th>unixReviewTime</th>\n",
       "      <th>vote</th>\n",
       "      <th>style</th>\n",
       "      <th>image</th>\n",
       "    </tr>\n",
       "  </thead>\n",
       "  <tbody>\n",
       "    <tr>\n",
       "      <th>0</th>\n",
       "      <td>1.0</td>\n",
       "      <td>False</td>\n",
       "      <td>10 3, 2013</td>\n",
       "      <td>A10RFAF1CGFKHZ</td>\n",
       "      <td>B000CN750I</td>\n",
       "      <td>J.C.</td>\n",
       "      <td>...you're relying on it's preloaded cheat codes.  Gameshark has since shut down any support for this software disk. There's a ton of games you won't find codes for or any updated codes for previous games. Gameshark also removed all updates for preuploaded cheat codes so you can transfer them to your PS2 via flash pen drive. Unless you're a wiz at programming your own codes via computer and know how to transfer them to the memory card on disk boot up, don't bother with this crap. Gameshark is no longer Gameshark at it's core. It's been bought out and management is completely lacking. They now provide different and cheaper products that have nothing to do with cheats or codes. Look to other devices instead.</td>\n",
       "      <td>DO NOT buy this disk - A waste of money unless....</td>\n",
       "      <td>1380758400</td>\n",
       "      <td>2.0</td>\n",
       "      <td>NaN</td>\n",
       "      <td>NaN</td>\n",
       "    </tr>\n",
       "    <tr>\n",
       "      <th>1</th>\n",
       "      <td>1.0</td>\n",
       "      <td>True</td>\n",
       "      <td>01 22, 2011</td>\n",
       "      <td>A3RUOVKA1S5NYX</td>\n",
       "      <td>B00005MAMO</td>\n",
       "      <td>ksnod</td>\n",
       "      <td>They said it was in Good condition, thats what i was hoping for until i put the card into my controller to save my game for 007 World is Not Enough and it said \"Controller Pak may be damaged or broken\" well it was! I am not happy at all about this product and will never buy from this person/company again!</td>\n",
       "      <td>Peice of Crap</td>\n",
       "      <td>1295654400</td>\n",
       "      <td>NaN</td>\n",
       "      <td>NaN</td>\n",
       "      <td>NaN</td>\n",
       "    </tr>\n",
       "    <tr>\n",
       "      <th>2</th>\n",
       "      <td>1.0</td>\n",
       "      <td>False</td>\n",
       "      <td>11 26, 2010</td>\n",
       "      <td>A2UWYXQMVSPP0Z</td>\n",
       "      <td>B0012N746W</td>\n",
       "      <td>majorlynch</td>\n",
       "      <td>When I buy a game I want to be able to buy the FULL game. So if there is DLC for the game I want to be able to buy that too.\\n\\nSo Eidos decide DLC is available for the Xbox 360 ONLY. Which means the PS3 version is never the full product.\\n\\nSo now I have to buy it on the xbox 360 to get the full experience AFTER buying it already.\\n\\nOne star for a shocking business practice.</td>\n",
       "      <td>NO DLC FOR PS3!!!</td>\n",
       "      <td>1290729600</td>\n",
       "      <td>5.0</td>\n",
       "      <td>{'Format:': ' Video Game'}</td>\n",
       "      <td>NaN</td>\n",
       "    </tr>\n",
       "    <tr>\n",
       "      <th>3</th>\n",
       "      <td>1.0</td>\n",
       "      <td>True</td>\n",
       "      <td>03 23, 2011</td>\n",
       "      <td>A2KZ5ABOP3EORT</td>\n",
       "      <td>B002BS47YE</td>\n",
       "      <td>Brent A. Feinberg</td>\n",
       "      <td>I was really looking forward to this game showing what my system was capable of. Unfortunately, the best this game can do is tax an XBOX 360 which is ancient 5 year old HW. The game plays like almost every other generic shooter out there in confined spaces. Honestly, there is no reason anymore to buy an advanced computer with a good graphics card. PC Gamers should avoid this game and look elsewhere. There are only 3 graphics options on the settings screen. The amount of motion blur is rediculous and is used to cover up the very low resolution textures.\\n\\nI wish I could send this turd back.</td>\n",
       "      <td>Horrible port of an XBOX 360 game</td>\n",
       "      <td>1300838400</td>\n",
       "      <td>21.0</td>\n",
       "      <td>{'Format:': ' Video Game'}</td>\n",
       "      <td>NaN</td>\n",
       "    </tr>\n",
       "    <tr>\n",
       "      <th>4</th>\n",
       "      <td>1.0</td>\n",
       "      <td>False</td>\n",
       "      <td>11 15, 2016</td>\n",
       "      <td>A2IFUYQJJE09D</td>\n",
       "      <td>B01GKF824Y</td>\n",
       "      <td>TimetoRise</td>\n",
       "      <td>Terribly boring and quite honestly not very fun. The game can entertain you for the first hour or so. Very repetitive and unfortunately BORING. The main character is a walking clich and the controls are clunky. The storyline is incredibly weak. I would pass on this or wait for a deep discount.</td>\n",
       "      <td>Boring and Repetitive</td>\n",
       "      <td>1479168000</td>\n",
       "      <td>5.0</td>\n",
       "      <td>{'Edition:': ' Standard', 'Platform:': ' Xbox One'}</td>\n",
       "      <td>NaN</td>\n",
       "    </tr>\n",
       "  </tbody>\n",
       "</table>\n",
       "</div>"
      ],
      "text/plain": [
       "   overall  verified   reviewTime      reviewerID        asin  \\\n",
       "0      1.0     False   10 3, 2013  A10RFAF1CGFKHZ  B000CN750I   \n",
       "1      1.0      True  01 22, 2011  A3RUOVKA1S5NYX  B00005MAMO   \n",
       "2      1.0     False  11 26, 2010  A2UWYXQMVSPP0Z  B0012N746W   \n",
       "3      1.0      True  03 23, 2011  A2KZ5ABOP3EORT  B002BS47YE   \n",
       "4      1.0     False  11 15, 2016   A2IFUYQJJE09D  B01GKF824Y   \n",
       "\n",
       "        reviewerName  \\\n",
       "0               J.C.   \n",
       "1              ksnod   \n",
       "2         majorlynch   \n",
       "3  Brent A. Feinberg   \n",
       "4         TimetoRise   \n",
       "\n",
       "                                                                                                                                                                                                                                                                                                                                                                                                                                                                                                                                                                                                                                                                                                                                   reviewText  \\\n",
       "0  ...you're relying on it's preloaded cheat codes.  Gameshark has since shut down any support for this software disk. There's a ton of games you won't find codes for or any updated codes for previous games. Gameshark also removed all updates for preuploaded cheat codes so you can transfer them to your PS2 via flash pen drive. Unless you're a wiz at programming your own codes via computer and know how to transfer them to the memory card on disk boot up, don't bother with this crap. Gameshark is no longer Gameshark at it's core. It's been bought out and management is completely lacking. They now provide different and cheaper products that have nothing to do with cheats or codes. Look to other devices instead.   \n",
       "1                                                                                                                                                                                                                                                                                                                                                                                                                          They said it was in Good condition, thats what i was hoping for until i put the card into my controller to save my game for 007 World is Not Enough and it said \"Controller Pak may be damaged or broken\" well it was! I am not happy at all about this product and will never buy from this person/company again!   \n",
       "2                                                                                                                                                                                                                                                                                                                                                 When I buy a game I want to be able to buy the FULL game. So if there is DLC for the game I want to be able to buy that too.\\n\\nSo Eidos decide DLC is available for the Xbox 360 ONLY. Which means the PS3 version is never the full product.\\n\\nSo now I have to buy it on the xbox 360 to get the full experience AFTER buying it already.\\n\\nOne star for a shocking business practice.   \n",
       "3                                                                                                                       I was really looking forward to this game showing what my system was capable of. Unfortunately, the best this game can do is tax an XBOX 360 which is ancient 5 year old HW. The game plays like almost every other generic shooter out there in confined spaces. Honestly, there is no reason anymore to buy an advanced computer with a good graphics card. PC Gamers should avoid this game and look elsewhere. There are only 3 graphics options on the settings screen. The amount of motion blur is rediculous and is used to cover up the very low resolution textures.\\n\\nI wish I could send this turd back.   \n",
       "4                                                                                                                                                                                                                                                                                                                                                                                                                                      Terribly boring and quite honestly not very fun. The game can entertain you for the first hour or so. Very repetitive and unfortunately BORING. The main character is a walking clich and the controls are clunky. The storyline is incredibly weak. I would pass on this or wait for a deep discount.   \n",
       "\n",
       "                                              summary  unixReviewTime  vote  \\\n",
       "0  DO NOT buy this disk - A waste of money unless....      1380758400   2.0   \n",
       "1                                       Peice of Crap      1295654400   NaN   \n",
       "2                                   NO DLC FOR PS3!!!      1290729600   5.0   \n",
       "3                   Horrible port of an XBOX 360 game      1300838400  21.0   \n",
       "4                               Boring and Repetitive      1479168000   5.0   \n",
       "\n",
       "                                                 style image  \n",
       "0                                                  NaN   NaN  \n",
       "1                                                  NaN   NaN  \n",
       "2                           {'Format:': ' Video Game'}   NaN  \n",
       "3                           {'Format:': ' Video Game'}   NaN  \n",
       "4  {'Edition:': ' Standard', 'Platform:': ' Xbox One'}   NaN  "
      ]
     },
     "execution_count": 55,
     "metadata": {},
     "output_type": "execute_result"
    }
   ],
   "source": [
    "reviews1.head()"
   ]
  },
  {
   "cell_type": "code",
   "execution_count": 56,
   "metadata": {},
   "outputs": [],
   "source": [
    "reviews1.dropna(subset=['reviewText'], inplace=True)"
   ]
  },
  {
   "cell_type": "code",
   "execution_count": 57,
   "metadata": {},
   "outputs": [
    {
     "data": {
      "text/plain": [
       "(4499, 12)"
      ]
     },
     "execution_count": 57,
     "metadata": {},
     "output_type": "execute_result"
    }
   ],
   "source": [
    "reviews1.shape"
   ]
  },
  {
   "cell_type": "code",
   "execution_count": 58,
   "metadata": {},
   "outputs": [
    {
     "name": "stderr",
     "output_type": "stream",
     "text": [
      "[nltk_data] Downloading package punkt to\n",
      "[nltk_data]     C:\\Users\\16692\\AppData\\Roaming\\nltk_data...\n",
      "[nltk_data]   Package punkt is already up-to-date!\n"
     ]
    },
    {
     "data": {
      "text/plain": [
       "True"
      ]
     },
     "execution_count": 58,
     "metadata": {},
     "output_type": "execute_result"
    }
   ],
   "source": [
    "nltk.download('punkt')"
   ]
  },
  {
   "cell_type": "code",
   "execution_count": 63,
   "metadata": {},
   "outputs": [],
   "source": [
    "reviews1['swn_score'] = reviews1['reviewText'].apply(lambda text : get_sentiment_score1(text))"
   ]
  },
  {
   "cell_type": "code",
   "execution_count": 76,
   "metadata": {},
   "outputs": [
    {
     "data": {
      "text/html": [
       "<div>\n",
       "<style scoped>\n",
       "    .dataframe tbody tr th:only-of-type {\n",
       "        vertical-align: middle;\n",
       "    }\n",
       "\n",
       "    .dataframe tbody tr th {\n",
       "        vertical-align: top;\n",
       "    }\n",
       "\n",
       "    .dataframe thead th {\n",
       "        text-align: right;\n",
       "    }\n",
       "</style>\n",
       "<table border=\"1\" class=\"dataframe\">\n",
       "  <thead>\n",
       "    <tr style=\"text-align: right;\">\n",
       "      <th></th>\n",
       "      <th>reviewText</th>\n",
       "      <th>swn_score</th>\n",
       "    </tr>\n",
       "  </thead>\n",
       "  <tbody>\n",
       "    <tr>\n",
       "      <th>946</th>\n",
       "      <td>Does the concept of starring in a youtube video while wearing shiny, garish costumes and strange make-up, appeal to you?  Congratulations,you are the target marketing segment for this product.  However I think that even this group will be disappointed with simporting.  Sim-porting is when you invite a \"friend\" you just met today on the internet (and there have some adult males on the official sims site working hard to befriend many teen girls, giving them gifts, and simporting with them) to come to your sim town and preform on your stage for you.  However the new adult friend will not actually show up in your town until at lease 10 sim hours later.  It is a boring 10 hour wait for both you and your sims.  Also, just for fun, although prewarned that this would happen, the developers were not careful and CC (like a virus) was allowed to come along with the simporter, and infect your entire game, permanately.  The town, a cheesy Californiaish/Bocarotonish nightmare, is tiny, and difficult to build in.  Get another Expansion pack.  This one is truly awful.  One star.\\n\\n***I am not an author/developer.  I do not know this author/developer.  I have received nothing of value, and I have no expectation of receiving anything of value, for writing this review.</td>\n",
       "      <td>0.366109</td>\n",
       "    </tr>\n",
       "    <tr>\n",
       "      <th>1896</th>\n",
       "      <td>Decent game. Would have enjoyed it more if I had played it before the Xillias. There was a lot of it that I really didn't like. The battle system was watered down, slow, neutered, tedious, unresponsive, the fusion with the Seraphs often made it more difficult to fight, and the artes seemed wholly ineffective. The rest of the gameplay was comparatively lacking as well. The master weapons were garbage, the weapon/armor creation system was more annoying than it was useful. The Lord of the Land system was horrendously slow to level up and was area specific so you'd have to level up the Lord in every area to get the benefits. The character level system was all predetermined, no control.  The storyline was really basic which made it sort of anticlimactic. It wasn't an anticipated denuoment, it was an \"alright, let's get this over with.\" The characters were all annoying which made the skits painful. It really just didn't do anything well and all the stuff I liked from previous games was absent.</td>\n",
       "      <td>2.748691</td>\n",
       "    </tr>\n",
       "  </tbody>\n",
       "</table>\n",
       "</div>"
      ],
      "text/plain": [
       "                                                                                                                                                                                                                                                                                                                                                                                                                                                                                                                                                                                                                                                                                                                                                                                                                                                                                                                                                                                                                                                                                                                                                                                                                                                                                                                   reviewText  \\\n",
       "946   Does the concept of starring in a youtube video while wearing shiny, garish costumes and strange make-up, appeal to you?  Congratulations,you are the target marketing segment for this product.  However I think that even this group will be disappointed with simporting.  Sim-porting is when you invite a \"friend\" you just met today on the internet (and there have some adult males on the official sims site working hard to befriend many teen girls, giving them gifts, and simporting with them) to come to your sim town and preform on your stage for you.  However the new adult friend will not actually show up in your town until at lease 10 sim hours later.  It is a boring 10 hour wait for both you and your sims.  Also, just for fun, although prewarned that this would happen, the developers were not careful and CC (like a virus) was allowed to come along with the simporter, and infect your entire game, permanately.  The town, a cheesy Californiaish/Bocarotonish nightmare, is tiny, and difficult to build in.  Get another Expansion pack.  This one is truly awful.  One star.\\n\\n***I am not an author/developer.  I do not know this author/developer.  I have received nothing of value, and I have no expectation of receiving anything of value, for writing this review.   \n",
       "1896                                                                                                                                                                                                                                                                               Decent game. Would have enjoyed it more if I had played it before the Xillias. There was a lot of it that I really didn't like. The battle system was watered down, slow, neutered, tedious, unresponsive, the fusion with the Seraphs often made it more difficult to fight, and the artes seemed wholly ineffective. The rest of the gameplay was comparatively lacking as well. The master weapons were garbage, the weapon/armor creation system was more annoying than it was useful. The Lord of the Land system was horrendously slow to level up and was area specific so you'd have to level up the Lord in every area to get the benefits. The character level system was all predetermined, no control.  The storyline was really basic which made it sort of anticlimactic. It wasn't an anticipated denuoment, it was an \"alright, let's get this over with.\" The characters were all annoying which made the skits painful. It really just didn't do anything well and all the stuff I liked from previous games was absent.   \n",
       "\n",
       "      swn_score  \n",
       "946    0.366109  \n",
       "1896   2.748691  "
      ]
     },
     "execution_count": 76,
     "metadata": {},
     "output_type": "execute_result"
    }
   ],
   "source": [
    "reviews1[['reviewText','swn_score']].sample(2)"
   ]
  },
  {
   "cell_type": "code",
   "execution_count": 78,
   "metadata": {},
   "outputs": [
    {
     "data": {
      "image/png": "[encoded data removed]",
      "text/plain": [
       "<Figure size 1440x720 with 1 Axes>"
      ]
     },
     "metadata": {
      "needs_background": "light"
     },
     "output_type": "display_data"
    }
   ],
   "source": [
    "fig , ax = plt.subplots(nrows=1, ncols=1, figsize=(20,10))\n",
    "sns.histplot(x='swn_score', data=reviews1.query(\"swn_score < 8 and swn_score > -8\"), ax=ax)\n",
    "plt.show()"
   ]
  },
  {
   "cell_type": "code",
   "execution_count": 82,
   "metadata": {},
   "outputs": [],
   "source": [
    "reviews1['swn_sentiment'] = reviews1['swn_score'].apply(lambda x: \"positive\" if x>1 else (\"negative\" if x<0.5 else \"neutral\"))"
   ]
  },
  {
   "cell_type": "code",
   "execution_count": 84,
   "metadata": {},
   "outputs": [
    {
     "data": {
      "text/plain": [
       "positive    2221\n",
       "negative    1818\n",
       "neutral      460\n",
       "Name: swn_sentiment, dtype: int64"
      ]
     },
     "execution_count": 84,
     "metadata": {},
     "output_type": "execute_result"
    }
   ],
   "source": [
    "reviews1['swn_sentiment'].value_counts(dropna=False)"
   ]
  },
  {
   "cell_type": "code",
   "execution_count": 86,
   "metadata": {},
   "outputs": [
    {
     "data": {
      "text/plain": [
       "<AxesSubplot:xlabel='overall', ylabel='count'>"
      ]
     },
     "execution_count": 86,
     "metadata": {},
     "output_type": "execute_result"
    },
    {
     "data": {
      "image/png": "[encoded data removed]",
      "text/plain": [
       "<Figure size 432x288 with 1 Axes>"
      ]
     },
     "metadata": {
      "needs_background": "light"
     },
     "output_type": "display_data"
    }
   ],
   "source": [
    "sns.countplot(x='overall', hue='swn_sentiment' ,data = reviews1)"
   ]
  },
  {
   "cell_type": "code",
   "execution_count": 88,
   "metadata": {},
   "outputs": [
    {
     "data": {
      "text/plain": [
       "<AxesSubplot:xlabel='swn_sentiment', ylabel='overall'>"
      ]
     },
     "execution_count": 88,
     "metadata": {},
     "output_type": "execute_result"
    },
    {
     "data": {
      "image/png": "[encoded data removed]",
      "text/plain": [
       "<Figure size 432x288 with 1 Axes>"
      ]
     },
     "metadata": {
      "needs_background": "light"
     },
     "output_type": "display_data"
    }
   ],
   "source": [
    "sns.boxenplot(x='swn_sentiment', y='overall', data = reviews1)"
   ]
  },
  {
   "cell_type": "code",
   "execution_count": 89,
   "metadata": {},
   "outputs": [
    {
     "data": {
      "image/png": "[encoded data removed]",
      "text/plain": [
       "<Figure size 864x504 with 1 Axes>"
      ]
     },
     "metadata": {
      "needs_background": "light"
     },
     "output_type": "display_data"
    }
   ],
   "source": [
    "fig, ax = plt.subplots(nrows=1, ncols=1, figsize = (12,7))\n",
    "sns.boxenplot(x='overall', y='swn_score', data = reviews1, ax=ax)\n",
    "plt.show()"
   ]
  },
  {
   "cell_type": "code",
   "execution_count": 90,
   "metadata": {},
   "outputs": [],
   "source": [
    "reviews1['true_sentiment'] = \\\n",
    "    reviews1['overall'].apply(lambda x: \"positive\" if x>=4 else (\"neutral\" if x==3 else \"negative\"))"
   ]
  },
  {
   "cell_type": "code",
   "execution_count": 92,
   "metadata": {},
   "outputs": [],
   "source": [
    "y_swn_pred, y_true = reviews1['swn_sentiment'].tolist(), reviews1['true_sentiment'].tolist()"
   ]
  },
  {
   "cell_type": "code",
   "execution_count": 93,
   "metadata": {},
   "outputs": [
    {
     "data": {
      "text/plain": [
       "(4499, 4499)"
      ]
     },
     "execution_count": 93,
     "metadata": {},
     "output_type": "execute_result"
    }
   ],
   "source": [
    "len(y_swn_pred), len(y_true)"
   ]
  },
  {
   "cell_type": "code",
   "execution_count": 94,
   "metadata": {},
   "outputs": [],
   "source": [
    "from sklearn.metrics import confusion_matrix\n",
    "cm = confusion_matrix(y_true, y_swn_pred)"
   ]
  },
  {
   "cell_type": "code",
   "execution_count": 95,
   "metadata": {},
   "outputs": [
    {
     "data": {
      "image/png": "[encoded data removed]",
      "text/plain": [
       "<Figure size 576x432 with 2 Axes>"
      ]
     },
     "metadata": {
      "needs_background": "light"
     },
     "output_type": "display_data"
    }
   ],
   "source": [
    "fig , ax = plt.subplots(nrows=1, ncols=1, figsize=(8,6))\n",
    "sns.heatmap(cm, cmap='viridis_r', annot=True, fmt='d', square=True, ax=ax)\n",
    "ax.set_xlabel('Predicted')\n",
    "ax.set_ylabel('True');"
   ]
  },
  {
   "cell_type": "code",
   "execution_count": 96,
   "metadata": {},
   "outputs": [],
   "source": [
    "#Assessing the performance\n",
    "tp, tn, fp, fn = 1088, 70+242+142+1310, 265+647, 188+547"
   ]
  },
  {
   "cell_type": "code",
   "execution_count": 97,
   "metadata": {},
   "outputs": [],
   "source": [
    "recall = tp / (tp+fn)\n",
    "specifity = tn / (tn+fp)\n",
    "precision = tp/(tp+fp)\n",
    "f1 = (2*tp) / (2*tp + fp + fn)"
   ]
  },
  {
   "cell_type": "code",
   "execution_count": 99,
   "metadata": {},
   "outputs": [
    {
     "name": "stdout",
     "output_type": "stream",
     "text": [
      "recall: 0.5968184311574328\n",
      "precision: 0.544\n",
      "f1 score: 0.5691865027465342\n"
     ]
    }
   ],
   "source": [
    "print(\"recall: {}\\nprecision: {}\\nf1 score: {}\".format(recall, precision, f1))"
   ]
  },
  {
   "cell_type": "code",
   "execution_count": 100,
   "metadata": {},
   "outputs": [],
   "source": [
    "#Positive sentiment prediction\n",
    "tp, tn, fp, fn = 1310, 1088+265+70+188, 242+647, 142+547"
   ]
  },
  {
   "cell_type": "code",
   "execution_count": 101,
   "metadata": {},
   "outputs": [],
   "source": [
    "recall = tp / (tp+fn)\n",
    "specifity = tn / (tn+fp)\n",
    "precision = tp/(tp+fp)\n",
    "f1 = (2*tp) / (2*tp + fp + fn)"
   ]
  },
  {
   "cell_type": "code",
   "execution_count": 102,
   "metadata": {},
   "outputs": [
    {
     "name": "stdout",
     "output_type": "stream",
     "text": [
      "recall: 0.655327663831916\n",
      "precision: 0.5957253296953161\n",
      "f1 score: 0.6241067174845164\n"
     ]
    }
   ],
   "source": [
    "print(\"recall: {}\\nprecision: {}\\nf1 score: {}\".format(recall, precision, f1))"
   ]
  },
  {
   "cell_type": "code",
   "execution_count": 103,
   "metadata": {},
   "outputs": [],
   "source": [
    "#Uisng NLTK opinion Lexicon\n",
    "import nltk\n",
    "from nltk.corpus import opinion_lexicon\n",
    "from nltk.tokenize import word_tokenize, sent_tokenize"
   ]
  },
  {
   "cell_type": "code",
   "execution_count": 106,
   "metadata": {},
   "outputs": [
    {
     "name": "stderr",
     "output_type": "stream",
     "text": [
      "[nltk_data] Downloading package opinion_lexicon to\n",
      "[nltk_data]     C:\\Users\\16692\\AppData\\Roaming\\nltk_data...\n",
      "[nltk_data]   Unzipping corpora\\opinion_lexicon.zip.\n"
     ]
    },
    {
     "data": {
      "text/plain": [
       "True"
      ]
     },
     "execution_count": 106,
     "metadata": {},
     "output_type": "execute_result"
    }
   ],
   "source": [
    "nltk.download(\"opinion_lexicon\")"
   ]
  },
  {
   "cell_type": "code",
   "execution_count": 107,
   "metadata": {},
   "outputs": [],
   "source": [
    "pos_comm = list(opinion_lexicon.positive())\n",
    "neg_comm = list(opinion_lexicon.negative())"
   ]
  },
  {
   "cell_type": "code",
   "execution_count": 114,
   "metadata": {},
   "outputs": [],
   "source": [
    "def get_sentiment_score_oplex(text):\n",
    "    \n",
    "    \"\"\"\n",
    "        This method returns the sentiment score of a given text using nltk opinion lexicon.\n",
    "        input: text\n",
    "        output: numeric (double) score, >0 means positive sentiment and <0 means negative sentiment.\n",
    "    \"\"\"    \n",
    "    total_score = 0\n",
    "\n",
    "    raw_sentences = sent_tokenize(text)\n",
    "    \n",
    "    for sentence in raw_sentences:\n",
    "\n",
    "        sent_score = 0     \n",
    "        sentence = str(sentence)\n",
    "        sentence = sentence.replace(\"<br />\",\" \").translate(str.maketrans('','',punctuation)).lower()\n",
    "        tokens = TreebankWordTokenizer().tokenize(text)\n",
    "        for token in tokens:\n",
    "            sent_score = sent_score + 1 if token in pos_comm else (sent_score - 1 if token in neg_comm else sent_score)\n",
    "        total_score = total_score + (sent_score / len(tokens))\n",
    "\n",
    "    \n",
    "    return total_score"
   ]
  },
  {
   "cell_type": "code",
   "execution_count": 115,
   "metadata": {},
   "outputs": [],
   "source": [
    "reviews1['oplex_sentiment_score'] = reviews1['reviewText'].apply(lambda x: get_sentiment_score_oplex(x))"
   ]
  },
  {
   "cell_type": "code",
   "execution_count": 117,
   "metadata": {},
   "outputs": [
    {
     "data": {
      "image/png": "[encoded data removed]",
      "text/plain": [
       "<Figure size 1440x720 with 1 Axes>"
      ]
     },
     "metadata": {
      "needs_background": "light"
     },
     "output_type": "display_data"
    }
   ],
   "source": [
    "fig , ax = plt.subplots(nrows=1, ncols=1, figsize=(20,10))\n",
    "sns.histplot(x='oplex_sentiment_score',\\\n",
    "             data=reviews1.query(\"oplex_sentiment_score < 1 and oplex_sentiment_score>-1\"), ax=ax)\n",
    "plt.show()"
   ]
  },
  {
   "cell_type": "code",
   "execution_count": 118,
   "metadata": {},
   "outputs": [],
   "source": [
    "reviews1['oplex_sentiment'] = \\\n",
    "    reviews1['oplex_sentiment_score'].apply(lambda x: \"positive\" if x>0.1 else (\"negative\" if x<0 else \"neutral\"))"
   ]
  },
  {
   "cell_type": "code",
   "execution_count": 119,
   "metadata": {},
   "outputs": [
    {
     "data": {
      "text/plain": [
       "positive    1872\n",
       "neutral     1571\n",
       "negative    1056\n",
       "Name: oplex_sentiment, dtype: int64"
      ]
     },
     "execution_count": 119,
     "metadata": {},
     "output_type": "execute_result"
    }
   ],
   "source": [
    "reviews1['oplex_sentiment'].value_counts(dropna=False)"
   ]
  },
  {
   "cell_type": "code",
   "execution_count": 120,
   "metadata": {},
   "outputs": [
    {
     "data": {
      "text/plain": [
       "<AxesSubplot:xlabel='overall', ylabel='count'>"
      ]
     },
     "execution_count": 120,
     "metadata": {},
     "output_type": "execute_result"
    },
    {
     "data": {
      "image/png": "[encoded data removed]",
      "text/plain": [
       "<Figure size 432x288 with 1 Axes>"
      ]
     },
     "metadata": {
      "needs_background": "light"
     },
     "output_type": "display_data"
    }
   ],
   "source": [
    "sns.countplot(x='overall', hue='oplex_sentiment' ,data = reviews1)"
   ]
  },
  {
   "cell_type": "code",
   "execution_count": 121,
   "metadata": {},
   "outputs": [
    {
     "data": {
      "text/plain": [
       "<AxesSubplot:xlabel='oplex_sentiment', ylabel='overall'>"
      ]
     },
     "execution_count": 121,
     "metadata": {},
     "output_type": "execute_result"
    },
    {
     "data": {
      "image/png": "[encoded data removed]",
      "text/plain": [
       "<Figure size 432x288 with 1 Axes>"
      ]
     },
     "metadata": {
      "needs_background": "light"
     },
     "output_type": "display_data"
    }
   ],
   "source": [
    "sns.boxenplot(x='oplex_sentiment', y='overall', data = reviews1)"
   ]
  },
  {
   "cell_type": "code",
   "execution_count": 123,
   "metadata": {},
   "outputs": [
    {
     "data": {
      "image/png": "[encoded data removed]",
      "text/plain": [
       "<Figure size 864x504 with 1 Axes>"
      ]
     },
     "metadata": {
      "needs_background": "light"
     },
     "output_type": "display_data"
    }
   ],
   "source": [
    "fig, ax = plt.subplots(nrows=1, ncols=1, figsize = (12,7))\n",
    "sns.boxenplot(x='overall', y='oplex_sentiment_score', data = reviews1, ax=ax)\n",
    "plt.show()"
   ]
  },
  {
   "cell_type": "code",
   "execution_count": 125,
   "metadata": {},
   "outputs": [],
   "source": [
    "y_oplex_pred = reviews1['oplex_sentiment'].tolist()"
   ]
  },
  {
   "cell_type": "code",
   "execution_count": 126,
   "metadata": {},
   "outputs": [],
   "source": [
    "oplex_cm = confusion_matrix(y_true, y_oplex_pred)"
   ]
  },
  {
   "cell_type": "code",
   "execution_count": 127,
   "metadata": {},
   "outputs": [
    {
     "data": {
      "image/png": "[encoded data removed]",
      "text/plain": [
       "<Figure size 576x432 with 2 Axes>"
      ]
     },
     "metadata": {
      "needs_background": "light"
     },
     "output_type": "display_data"
    }
   ],
   "source": [
    "fig , ax = plt.subplots(nrows=1, ncols=1, figsize=(8,6))\n",
    "sns.heatmap(oplex_cm, cmap='viridis_r', annot=True, fmt='d', square=True, ax=ax)\n",
    "ax.set_xlabel('Predicted')\n",
    "ax.set_ylabel('True');"
   ]
  },
  {
   "cell_type": "code",
   "execution_count": 128,
   "metadata": {},
   "outputs": [],
   "source": [
    "oplex_cm = list(oplex_cm.ravel())"
   ]
  },
  {
   "cell_type": "code",
   "execution_count": 129,
   "metadata": {},
   "outputs": [
    {
     "data": {
      "text/plain": [
       "[834, 689, 477, 76, 187, 236, 146, 695, 1159]"
      ]
     },
     "execution_count": 129,
     "metadata": {},
     "output_type": "execute_result"
    }
   ],
   "source": [
    "oplex_cm"
   ]
  },
  {
   "cell_type": "code",
   "execution_count": 130,
   "metadata": {},
   "outputs": [],
   "source": [
    "#Negative Label Assesment\n",
    "tp, tn, fp, fn = 804, 195+199+686+1181, 106+132, 701+495"
   ]
  },
  {
   "cell_type": "code",
   "execution_count": 131,
   "metadata": {},
   "outputs": [
    {
     "name": "stdout",
     "output_type": "stream",
     "text": [
      "recall: 0.402\n",
      "precission: 0.7715930902111324\n",
      "f1 score: 0.5285996055226825\n"
     ]
    }
   ],
   "source": [
    "recall = tp / (tp+fn)\n",
    "specifity = tn / (tn+fp)\n",
    "precision = tp/(tp+fp)\n",
    "f1 = (2*tp) / (2*tp + fp + fn)\n",
    "\n",
    "print(\"recall: {}\\nprecission: {}\\nf1 score: {}\".format(recall, precision, f1))"
   ]
  },
  {
   "cell_type": "code",
   "execution_count": 132,
   "metadata": {},
   "outputs": [],
   "source": [
    "#Positive label Assesment\n",
    "tp, tn, fp, fn = 1181, 804+701+106+195, 495+199, 132+686"
   ]
  },
  {
   "cell_type": "code",
   "execution_count": 133,
   "metadata": {},
   "outputs": [
    {
     "name": "stdout",
     "output_type": "stream",
     "text": [
      "recall: 0.5907953976988495\n",
      "precision: 0.6298666666666667\n",
      "f1 score: 0.6097057305110997\n"
     ]
    }
   ],
   "source": [
    "recall = tp / (tp+fn)\n",
    "specifity = tn / (tn+fp)\n",
    "precision = tp/(tp+fp)\n",
    "f1 = (2*tp) / (2*tp + fp + fn)\n",
    "\n",
    "print(\"recall: {}\\nprecision: {}\\nf1 score: {}\".format(recall, precision, f1))"
   ]
  }
 ],
 "metadata": {
  "kernelspec": {
   "display_name": "Python 3",
   "language": "python",
   "name": "python3"
  },
  "language_info": {
   "codemirror_mode": {
    "name": "ipython",
    "version": 3
   },
   "file_extension": ".py",
   "mimetype": "text/x-python",
   "name": "python",
   "nbconvert_exporter": "python",
   "pygments_lexer": "ipython3",
   "version": "3.8.5"
  }
 },
 "nbformat": 4,
 "nbformat_minor": 4
}
